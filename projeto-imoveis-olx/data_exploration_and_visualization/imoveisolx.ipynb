{
 "cells": [
  {
   "cell_type": "markdown",
   "metadata": {},
   "source": [
    "# Análise exploratória dos anúncios de imóveis do site OLX"
   ]
  },
  {
   "cell_type": "markdown",
   "metadata": {},
   "source": [
    "- Os anúncios correspondem a imóveis a venda ou para alugar do site OLX.\n",
    "- A base de dados foi extraída do site e possui anúncios de todos os estados.\n",
    "- Foi extraída apenas uma amostra de anúncios de cada estado, portanto nessa base não há todos os anúncios de imóveis do site.\n",
    "- **Objetivo:** Fazer uma análise exploratória dos dados contidos nos anúncios de imóveis do site OLX e uma limpeza desses dados.\n",
    "- **Observação:** A parte da limpeza dos dados se encontra, também, no código do arquivo data_cleaning.py. O data_cleaning.py é usado na DAG para limpar os dados extraídos."
   ]
  },
  {
   "cell_type": "markdown",
   "metadata": {},
   "source": [
    "#### Importando as bibliotecas "
   ]
  },
  {
   "cell_type": "code",
   "execution_count": 1,
   "metadata": {},
   "outputs": [],
   "source": [
    "import pandas as pd\n",
    "import numpy as np\n",
    "import matplotlib.pyplot as plt\n",
    "import seaborn as sns\n",
    "from pathlib import Path"
   ]
  },
  {
   "cell_type": "markdown",
   "metadata": {},
   "source": [
    "#### Carregando a base de dados extraída "
   ]
  },
  {
   "cell_type": "code",
   "execution_count": 2,
   "metadata": {},
   "outputs": [
    {
     "data": {
      "text/html": [
       "<div>\n",
       "<style scoped>\n",
       "    .dataframe tbody tr th:only-of-type {\n",
       "        vertical-align: middle;\n",
       "    }\n",
       "\n",
       "    .dataframe tbody tr th {\n",
       "        vertical-align: top;\n",
       "    }\n",
       "\n",
       "    .dataframe thead th {\n",
       "        text-align: right;\n",
       "    }\n",
       "</style>\n",
       "<table border=\"1\" class=\"dataframe\">\n",
       "  <thead>\n",
       "    <tr style=\"text-align: right;\">\n",
       "      <th></th>\n",
       "      <th>categoria</th>\n",
       "      <th>tipo</th>\n",
       "      <th>quartos</th>\n",
       "      <th>banheiros</th>\n",
       "      <th>vagas_garagem</th>\n",
       "      <th>detalhes_imovel</th>\n",
       "      <th>detalhes_condominio</th>\n",
       "      <th>cep</th>\n",
       "      <th>cidade</th>\n",
       "      <th>estado</th>\n",
       "      <th>bairro</th>\n",
       "      <th>preco</th>\n",
       "      <th>url</th>\n",
       "    </tr>\n",
       "  </thead>\n",
       "  <tbody>\n",
       "    <tr>\n",
       "      <th>0</th>\n",
       "      <td>Casas</td>\n",
       "      <td>Venda - casa em rua pública</td>\n",
       "      <td>3</td>\n",
       "      <td>1</td>\n",
       "      <td>2</td>\n",
       "      <td>NaN</td>\n",
       "      <td>NaN</td>\n",
       "      <td>69911349</td>\n",
       "      <td>Rio Branco</td>\n",
       "      <td>AC</td>\n",
       "      <td>Conjunto Bela Vista</td>\n",
       "      <td>194.000</td>\n",
       "      <td>https://ac.olx.com.br/acre/imoveis/casa-a-vend...</td>\n",
       "    </tr>\n",
       "    <tr>\n",
       "      <th>1</th>\n",
       "      <td>Casas</td>\n",
       "      <td>Venda - casa em rua pública</td>\n",
       "      <td>3</td>\n",
       "      <td>1</td>\n",
       "      <td>2</td>\n",
       "      <td>Área de serviço, Armários na cozinha, Armários...</td>\n",
       "      <td>Área murada, Portão eletrônico</td>\n",
       "      <td>69919628</td>\n",
       "      <td>Rio Branco</td>\n",
       "      <td>AC</td>\n",
       "      <td>Jardim Primavera</td>\n",
       "      <td>120.000</td>\n",
       "      <td>https://ac.olx.com.br/acre/imoveis/casa-mista-...</td>\n",
       "    </tr>\n",
       "    <tr>\n",
       "      <th>2</th>\n",
       "      <td>Casas</td>\n",
       "      <td>Venda - casa em rua pública</td>\n",
       "      <td>2</td>\n",
       "      <td>2</td>\n",
       "      <td>3</td>\n",
       "      <td>NaN</td>\n",
       "      <td>NaN</td>\n",
       "      <td>69900000</td>\n",
       "      <td>Rio Branco</td>\n",
       "      <td>AC</td>\n",
       "      <td>NaN</td>\n",
       "      <td>NaN</td>\n",
       "      <td>https://ac.olx.com.br/acre/imoveis/vendo-casa-...</td>\n",
       "    </tr>\n",
       "    <tr>\n",
       "      <th>3</th>\n",
       "      <td>Casas</td>\n",
       "      <td>Venda - casa em rua pública</td>\n",
       "      <td>0</td>\n",
       "      <td>0</td>\n",
       "      <td>0</td>\n",
       "      <td>NaN</td>\n",
       "      <td>NaN</td>\n",
       "      <td>69930000</td>\n",
       "      <td>Xapuri</td>\n",
       "      <td>AC</td>\n",
       "      <td>NaN</td>\n",
       "      <td>45.000</td>\n",
       "      <td>https://ac.olx.com.br/acre/imoveis/casa-reside...</td>\n",
       "    </tr>\n",
       "    <tr>\n",
       "      <th>4</th>\n",
       "      <td>Casas</td>\n",
       "      <td>Venda - casa em rua pública</td>\n",
       "      <td>3</td>\n",
       "      <td>2</td>\n",
       "      <td>3</td>\n",
       "      <td>Varanda</td>\n",
       "      <td>NaN</td>\n",
       "      <td>69919760</td>\n",
       "      <td>Rio Branco</td>\n",
       "      <td>AC</td>\n",
       "      <td>Conjunto Tucumã</td>\n",
       "      <td>270.000</td>\n",
       "      <td>https://ac.olx.com.br/acre/imoveis/vende-se-ca...</td>\n",
       "    </tr>\n",
       "  </tbody>\n",
       "</table>\n",
       "</div>"
      ],
      "text/plain": [
       "  categoria                         tipo quartos banheiros vagas_garagem  \\\n",
       "0     Casas  Venda - casa em rua pública       3         1             2   \n",
       "1     Casas  Venda - casa em rua pública       3         1             2   \n",
       "2     Casas  Venda - casa em rua pública       2         2             3   \n",
       "3     Casas  Venda - casa em rua pública       0         0             0   \n",
       "4     Casas  Venda - casa em rua pública       3         2             3   \n",
       "\n",
       "                                     detalhes_imovel  \\\n",
       "0                                                NaN   \n",
       "1  Área de serviço, Armários na cozinha, Armários...   \n",
       "2                                                NaN   \n",
       "3                                                NaN   \n",
       "4                                            Varanda   \n",
       "\n",
       "              detalhes_condominio       cep      cidade estado  \\\n",
       "0                             NaN  69911349  Rio Branco     AC   \n",
       "1  Área murada, Portão eletrônico  69919628  Rio Branco     AC   \n",
       "2                             NaN  69900000  Rio Branco     AC   \n",
       "3                             NaN  69930000      Xapuri     AC   \n",
       "4                             NaN  69919760  Rio Branco     AC   \n",
       "\n",
       "                bairro    preco  \\\n",
       "0  Conjunto Bela Vista  194.000   \n",
       "1     Jardim Primavera  120.000   \n",
       "2                  NaN      NaN   \n",
       "3                  NaN   45.000   \n",
       "4      Conjunto Tucumã  270.000   \n",
       "\n",
       "                                                 url  \n",
       "0  https://ac.olx.com.br/acre/imoveis/casa-a-vend...  \n",
       "1  https://ac.olx.com.br/acre/imoveis/casa-mista-...  \n",
       "2  https://ac.olx.com.br/acre/imoveis/vendo-casa-...  \n",
       "3  https://ac.olx.com.br/acre/imoveis/casa-reside...  \n",
       "4  https://ac.olx.com.br/acre/imoveis/vende-se-ca...  "
      ]
     },
     "execution_count": 2,
     "metadata": {},
     "output_type": "execute_result"
    }
   ],
   "source": [
    "FILE_PATH = Path('../data_extraction/imoveisolx/output/dados.csv')\n",
    "df = pd.read_csv(FILE_PATH)\n",
    "df.head()"
   ]
  },
  {
   "cell_type": "markdown",
   "metadata": {},
   "source": [
    "#### Verificando o número de linhas e o número de colunas do dataframe "
   ]
  },
  {
   "cell_type": "code",
   "execution_count": 3,
   "metadata": {},
   "outputs": [
    {
     "name": "stdout",
     "output_type": "stream",
     "text": [
      "Número de linhas é 210473 e número de colunas é 13\n"
     ]
    }
   ],
   "source": [
    "sh = df.shape\n",
    "print(f\"Número de linhas é {sh[0]} e número de colunas é {sh[1]}\")"
   ]
  },
  {
   "cell_type": "markdown",
   "metadata": {},
   "source": [
    "#### Obtendo as informações do dataframe "
   ]
  },
  {
   "cell_type": "code",
   "execution_count": 4,
   "metadata": {},
   "outputs": [
    {
     "name": "stdout",
     "output_type": "stream",
     "text": [
      "<class 'pandas.core.frame.DataFrame'>\n",
      "RangeIndex: 210473 entries, 0 to 210472\n",
      "Data columns (total 13 columns):\n",
      " #   Column               Non-Null Count   Dtype \n",
      "---  ------               --------------   ----- \n",
      " 0   categoria            210473 non-null  object\n",
      " 1   tipo                 206137 non-null  object\n",
      " 2   quartos              205545 non-null  object\n",
      " 3   banheiros            200545 non-null  object\n",
      " 4   vagas_garagem        189339 non-null  object\n",
      " 5   detalhes_imovel      130543 non-null  object\n",
      " 6   detalhes_condominio  103831 non-null  object\n",
      " 7   cep                  210473 non-null  int64 \n",
      " 8   cidade               210470 non-null  object\n",
      " 9   estado               210473 non-null  object\n",
      " 10  bairro               184489 non-null  object\n",
      " 11  preco                203845 non-null  object\n",
      " 12  url                  210473 non-null  object\n",
      "dtypes: int64(1), object(12)\n",
      "memory usage: 20.9+ MB\n"
     ]
    }
   ],
   "source": [
    "df.info()"
   ]
  },
  {
   "cell_type": "markdown",
   "metadata": {},
   "source": [
    "Observe que a única coluna numérica do dataframe é a coluna de cep. Portanto, dado o objetivo aqui, preciso transformar em numérica algumas colunas do dataframe, tal como: quartos, banheiros, vagas_garagem, preço."
   ]
  },
  {
   "cell_type": "markdown",
   "metadata": {},
   "source": [
    "Antes de fazer a transformação das colunas, vou verificar os valores únicos de cada uma."
   ]
  },
  {
   "cell_type": "markdown",
   "metadata": {},
   "source": [
    "#### Verificando os valores únicos das colunas 'quartos', 'banheiros' e 'vagas_garagem' "
   ]
  },
  {
   "cell_type": "markdown",
   "metadata": {},
   "source": [
    "Valores únicos da coluna quartos"
   ]
  },
  {
   "cell_type": "code",
   "execution_count": 5,
   "metadata": {},
   "outputs": [
    {
     "data": {
      "text/plain": [
       "array(['3', '2', '0', '4', '1', '5 ou mais', nan], dtype=object)"
      ]
     },
     "execution_count": 5,
     "metadata": {},
     "output_type": "execute_result"
    }
   ],
   "source": [
    "df.quartos.unique()"
   ]
  },
  {
   "cell_type": "markdown",
   "metadata": {},
   "source": [
    "Valores únicos da coluna banheiros"
   ]
  },
  {
   "cell_type": "code",
   "execution_count": 6,
   "metadata": {},
   "outputs": [
    {
     "data": {
      "text/plain": [
       "array(['1', '2', '0', '3', '5 ou mais', '4', nan], dtype=object)"
      ]
     },
     "execution_count": 6,
     "metadata": {},
     "output_type": "execute_result"
    }
   ],
   "source": [
    "df.banheiros.unique()"
   ]
  },
  {
   "cell_type": "markdown",
   "metadata": {},
   "source": [
    "Valores únicos da coluna vagas_garagem"
   ]
  },
  {
   "cell_type": "code",
   "execution_count": 7,
   "metadata": {},
   "outputs": [
    {
     "data": {
      "text/plain": [
       "array(['2', '3', '0', nan, '1', '4', '5 ou mais', '8', '6', '10'],\n",
       "      dtype=object)"
      ]
     },
     "execution_count": 7,
     "metadata": {},
     "output_type": "execute_result"
    }
   ],
   "source": [
    "df.vagas_garagem.unique()"
   ]
  },
  {
   "cell_type": "markdown",
   "metadata": {},
   "source": [
    "#### Substituindo valores NaN das colunas 'quartos', 'banheiros' e 'vagas_garagem'"
   ]
  },
  {
   "cell_type": "markdown",
   "metadata": {},
   "source": [
    "Escolhi a abordagem de fazer a substituição dos valores NaN dessas colunas ao invés da remoção das linhas que continham essas valores nessas colunas. Notei que já exitiam valores 0 nas colunas 'banheiros' e 'vagas_garagem' e optei por substituir os valores ausentes por 0. "
   ]
  },
  {
   "cell_type": "code",
   "execution_count": 8,
   "metadata": {},
   "outputs": [],
   "source": [
    "df[['quartos', 'banheiros', 'vagas_garagem']] = df[['quartos', 'banheiros', 'vagas_garagem']].fillna('0') "
   ]
  },
  {
   "cell_type": "markdown",
   "metadata": {},
   "source": [
    "#### Transformando as colunas 'quartos', 'banheiros' e 'vagas_garagem' em numéricas "
   ]
  },
  {
   "cell_type": "markdown",
   "metadata": {},
   "source": [
    "Note que há valores '5 ou mais' nas três colunas. Dado que, mesmo tendo valores maiores que 5 na coluna de garagem, ainda tem essa categoria de 5 ou mais. Para transformar as colunas em numéricas, substituirei o ' ou mais' por '' e considerarei apenas o número."
   ]
  },
  {
   "cell_type": "code",
   "execution_count": 9,
   "metadata": {},
   "outputs": [],
   "source": [
    "df.quartos = df.quartos.str.replace(' ou mais', '')"
   ]
  },
  {
   "cell_type": "code",
   "execution_count": 10,
   "metadata": {},
   "outputs": [
    {
     "data": {
      "text/plain": [
       "array(['3', '2', '0', '4', '1', '5'], dtype=object)"
      ]
     },
     "execution_count": 10,
     "metadata": {},
     "output_type": "execute_result"
    }
   ],
   "source": [
    "df.quartos.unique()"
   ]
  },
  {
   "cell_type": "code",
   "execution_count": 11,
   "metadata": {},
   "outputs": [],
   "source": [
    "df.banheiros = df.banheiros.str.replace(' ou mais', '')"
   ]
  },
  {
   "cell_type": "code",
   "execution_count": 12,
   "metadata": {},
   "outputs": [
    {
     "data": {
      "text/plain": [
       "array(['1', '2', '0', '3', '5', '4'], dtype=object)"
      ]
     },
     "execution_count": 12,
     "metadata": {},
     "output_type": "execute_result"
    }
   ],
   "source": [
    "df.banheiros.unique()"
   ]
  },
  {
   "cell_type": "code",
   "execution_count": 13,
   "metadata": {},
   "outputs": [],
   "source": [
    "df.vagas_garagem = df.vagas_garagem.str.replace(' ou mais', '')"
   ]
  },
  {
   "cell_type": "code",
   "execution_count": 14,
   "metadata": {},
   "outputs": [
    {
     "data": {
      "text/plain": [
       "array(['2', '3', '0', '1', '4', '5', '8', '6', '10'], dtype=object)"
      ]
     },
     "execution_count": 14,
     "metadata": {},
     "output_type": "execute_result"
    }
   ],
   "source": [
    "df.vagas_garagem.unique()"
   ]
  },
  {
   "cell_type": "markdown",
   "metadata": {},
   "source": [
    "Transformando as três colunas em numéricas"
   ]
  },
  {
   "cell_type": "code",
   "execution_count": 15,
   "metadata": {},
   "outputs": [],
   "source": [
    "df.quartos = df.quartos.astype('int')"
   ]
  },
  {
   "cell_type": "code",
   "execution_count": 16,
   "metadata": {},
   "outputs": [],
   "source": [
    "df.banheiros = df.banheiros.astype('int')"
   ]
  },
  {
   "cell_type": "code",
   "execution_count": 17,
   "metadata": {},
   "outputs": [],
   "source": [
    "df.vagas_garagem = df.vagas_garagem.astype('int')"
   ]
  },
  {
   "cell_type": "code",
   "execution_count": 18,
   "metadata": {},
   "outputs": [
    {
     "name": "stdout",
     "output_type": "stream",
     "text": [
      "<class 'pandas.core.frame.DataFrame'>\n",
      "RangeIndex: 210473 entries, 0 to 210472\n",
      "Data columns (total 13 columns):\n",
      " #   Column               Non-Null Count   Dtype \n",
      "---  ------               --------------   ----- \n",
      " 0   categoria            210473 non-null  object\n",
      " 1   tipo                 206137 non-null  object\n",
      " 2   quartos              210473 non-null  int32 \n",
      " 3   banheiros            210473 non-null  int32 \n",
      " 4   vagas_garagem        210473 non-null  int32 \n",
      " 5   detalhes_imovel      130543 non-null  object\n",
      " 6   detalhes_condominio  103831 non-null  object\n",
      " 7   cep                  210473 non-null  int64 \n",
      " 8   cidade               210470 non-null  object\n",
      " 9   estado               210473 non-null  object\n",
      " 10  bairro               184489 non-null  object\n",
      " 11  preco                203845 non-null  object\n",
      " 12  url                  210473 non-null  object\n",
      "dtypes: int32(3), int64(1), object(9)\n",
      "memory usage: 18.5+ MB\n"
     ]
    }
   ],
   "source": [
    "df.info()"
   ]
  },
  {
   "cell_type": "markdown",
   "metadata": {},
   "source": [
    "#### Removendo os registros que possuem preço vazio"
   ]
  },
  {
   "cell_type": "markdown",
   "metadata": {},
   "source": [
    "Diferentemente da abordagem escolhida para os campos quartos, banheiros e vagas_garagem, escolhi a abordagem de remover o registro quando o preço é nulo. Aqui, não faz muito sentido considerarmos anúncios de venda ou aluguel que possuem preço nulo."
   ]
  },
  {
   "cell_type": "code",
   "execution_count": 19,
   "metadata": {},
   "outputs": [
    {
     "name": "stdout",
     "output_type": "stream",
     "text": [
      "Quantidade de anúncios que possuem preço nulo: 6628\n"
     ]
    }
   ],
   "source": [
    "print(f\"Quantidade de anúncios que possuem preço nulo: {df[df.preco.isna()].shape[0]}\")"
   ]
  },
  {
   "cell_type": "markdown",
   "metadata": {},
   "source": [
    "Então, removendo esses 6628 anúncios da base:"
   ]
  },
  {
   "cell_type": "code",
   "execution_count": 20,
   "metadata": {},
   "outputs": [
    {
     "data": {
      "text/html": [
       "<div>\n",
       "<style scoped>\n",
       "    .dataframe tbody tr th:only-of-type {\n",
       "        vertical-align: middle;\n",
       "    }\n",
       "\n",
       "    .dataframe tbody tr th {\n",
       "        vertical-align: top;\n",
       "    }\n",
       "\n",
       "    .dataframe thead th {\n",
       "        text-align: right;\n",
       "    }\n",
       "</style>\n",
       "<table border=\"1\" class=\"dataframe\">\n",
       "  <thead>\n",
       "    <tr style=\"text-align: right;\">\n",
       "      <th></th>\n",
       "      <th>categoria</th>\n",
       "      <th>tipo</th>\n",
       "      <th>quartos</th>\n",
       "      <th>banheiros</th>\n",
       "      <th>vagas_garagem</th>\n",
       "      <th>detalhes_imovel</th>\n",
       "      <th>detalhes_condominio</th>\n",
       "      <th>cep</th>\n",
       "      <th>cidade</th>\n",
       "      <th>estado</th>\n",
       "      <th>bairro</th>\n",
       "      <th>preco</th>\n",
       "      <th>url</th>\n",
       "    </tr>\n",
       "  </thead>\n",
       "  <tbody>\n",
       "    <tr>\n",
       "      <th>0</th>\n",
       "      <td>Casas</td>\n",
       "      <td>Venda - casa em rua pública</td>\n",
       "      <td>3</td>\n",
       "      <td>1</td>\n",
       "      <td>2</td>\n",
       "      <td>NaN</td>\n",
       "      <td>NaN</td>\n",
       "      <td>69911349</td>\n",
       "      <td>Rio Branco</td>\n",
       "      <td>AC</td>\n",
       "      <td>Conjunto Bela Vista</td>\n",
       "      <td>194.000</td>\n",
       "      <td>https://ac.olx.com.br/acre/imoveis/casa-a-vend...</td>\n",
       "    </tr>\n",
       "    <tr>\n",
       "      <th>1</th>\n",
       "      <td>Casas</td>\n",
       "      <td>Venda - casa em rua pública</td>\n",
       "      <td>3</td>\n",
       "      <td>1</td>\n",
       "      <td>2</td>\n",
       "      <td>Área de serviço, Armários na cozinha, Armários...</td>\n",
       "      <td>Área murada, Portão eletrônico</td>\n",
       "      <td>69919628</td>\n",
       "      <td>Rio Branco</td>\n",
       "      <td>AC</td>\n",
       "      <td>Jardim Primavera</td>\n",
       "      <td>120.000</td>\n",
       "      <td>https://ac.olx.com.br/acre/imoveis/casa-mista-...</td>\n",
       "    </tr>\n",
       "    <tr>\n",
       "      <th>3</th>\n",
       "      <td>Casas</td>\n",
       "      <td>Venda - casa em rua pública</td>\n",
       "      <td>0</td>\n",
       "      <td>0</td>\n",
       "      <td>0</td>\n",
       "      <td>NaN</td>\n",
       "      <td>NaN</td>\n",
       "      <td>69930000</td>\n",
       "      <td>Xapuri</td>\n",
       "      <td>AC</td>\n",
       "      <td>NaN</td>\n",
       "      <td>45.000</td>\n",
       "      <td>https://ac.olx.com.br/acre/imoveis/casa-reside...</td>\n",
       "    </tr>\n",
       "    <tr>\n",
       "      <th>4</th>\n",
       "      <td>Casas</td>\n",
       "      <td>Venda - casa em rua pública</td>\n",
       "      <td>3</td>\n",
       "      <td>2</td>\n",
       "      <td>3</td>\n",
       "      <td>Varanda</td>\n",
       "      <td>NaN</td>\n",
       "      <td>69919760</td>\n",
       "      <td>Rio Branco</td>\n",
       "      <td>AC</td>\n",
       "      <td>Conjunto Tucumã</td>\n",
       "      <td>270.000</td>\n",
       "      <td>https://ac.olx.com.br/acre/imoveis/vende-se-ca...</td>\n",
       "    </tr>\n",
       "    <tr>\n",
       "      <th>5</th>\n",
       "      <td>Apartamentos</td>\n",
       "      <td>Venda - apartamento padrão</td>\n",
       "      <td>3</td>\n",
       "      <td>2</td>\n",
       "      <td>2</td>\n",
       "      <td>Área de serviço, Churrasqueira, Varanda</td>\n",
       "      <td>Condomínio fechado, Elevador, Segurança 24h, P...</td>\n",
       "      <td>69900000</td>\n",
       "      <td>Rio Branco</td>\n",
       "      <td>AC</td>\n",
       "      <td>NaN</td>\n",
       "      <td>350.864</td>\n",
       "      <td>https://ac.olx.com.br/acre/imoveis/parkia-boul...</td>\n",
       "    </tr>\n",
       "  </tbody>\n",
       "</table>\n",
       "</div>"
      ],
      "text/plain": [
       "      categoria                         tipo  quartos  banheiros  \\\n",
       "0         Casas  Venda - casa em rua pública        3          1   \n",
       "1         Casas  Venda - casa em rua pública        3          1   \n",
       "3         Casas  Venda - casa em rua pública        0          0   \n",
       "4         Casas  Venda - casa em rua pública        3          2   \n",
       "5  Apartamentos   Venda - apartamento padrão        3          2   \n",
       "\n",
       "   vagas_garagem                                    detalhes_imovel  \\\n",
       "0              2                                                NaN   \n",
       "1              2  Área de serviço, Armários na cozinha, Armários...   \n",
       "3              0                                                NaN   \n",
       "4              3                                            Varanda   \n",
       "5              2            Área de serviço, Churrasqueira, Varanda   \n",
       "\n",
       "                                 detalhes_condominio       cep      cidade  \\\n",
       "0                                                NaN  69911349  Rio Branco   \n",
       "1                     Área murada, Portão eletrônico  69919628  Rio Branco   \n",
       "3                                                NaN  69930000      Xapuri   \n",
       "4                                                NaN  69919760  Rio Branco   \n",
       "5  Condomínio fechado, Elevador, Segurança 24h, P...  69900000  Rio Branco   \n",
       "\n",
       "  estado               bairro    preco  \\\n",
       "0     AC  Conjunto Bela Vista  194.000   \n",
       "1     AC     Jardim Primavera  120.000   \n",
       "3     AC                  NaN   45.000   \n",
       "4     AC      Conjunto Tucumã  270.000   \n",
       "5     AC                  NaN  350.864   \n",
       "\n",
       "                                                 url  \n",
       "0  https://ac.olx.com.br/acre/imoveis/casa-a-vend...  \n",
       "1  https://ac.olx.com.br/acre/imoveis/casa-mista-...  \n",
       "3  https://ac.olx.com.br/acre/imoveis/casa-reside...  \n",
       "4  https://ac.olx.com.br/acre/imoveis/vende-se-ca...  \n",
       "5  https://ac.olx.com.br/acre/imoveis/parkia-boul...  "
      ]
     },
     "execution_count": 20,
     "metadata": {},
     "output_type": "execute_result"
    }
   ],
   "source": [
    "df = df.dropna(subset=['preco'])\n",
    "df.head()"
   ]
  },
  {
   "cell_type": "markdown",
   "metadata": {},
   "source": [
    "#### Convertendo preço de string para float "
   ]
  },
  {
   "cell_type": "code",
   "execution_count": 21,
   "metadata": {},
   "outputs": [],
   "source": [
    "df['preco'] = df['preco'].str.replace('.','').astype('float')"
   ]
  },
  {
   "cell_type": "code",
   "execution_count": 22,
   "metadata": {},
   "outputs": [
    {
     "name": "stdout",
     "output_type": "stream",
     "text": [
      "<class 'pandas.core.frame.DataFrame'>\n",
      "Int64Index: 203845 entries, 0 to 210472\n",
      "Data columns (total 13 columns):\n",
      " #   Column               Non-Null Count   Dtype  \n",
      "---  ------               --------------   -----  \n",
      " 0   categoria            203845 non-null  object \n",
      " 1   tipo                 200217 non-null  object \n",
      " 2   quartos              203845 non-null  int32  \n",
      " 3   banheiros            203845 non-null  int32  \n",
      " 4   vagas_garagem        203845 non-null  int32  \n",
      " 5   detalhes_imovel      127147 non-null  object \n",
      " 6   detalhes_condominio  101010 non-null  object \n",
      " 7   cep                  203845 non-null  int64  \n",
      " 8   cidade               203842 non-null  object \n",
      " 9   estado               203845 non-null  object \n",
      " 10  bairro               179807 non-null  object \n",
      " 11  preco                203845 non-null  float64\n",
      " 12  url                  203845 non-null  object \n",
      "dtypes: float64(1), int32(3), int64(1), object(8)\n",
      "memory usage: 19.4+ MB\n"
     ]
    }
   ],
   "source": [
    "df.info()"
   ]
  },
  {
   "cell_type": "markdown",
   "metadata": {},
   "source": [
    "#### Fazendo um describe() do dataframe"
   ]
  },
  {
   "cell_type": "markdown",
   "metadata": {},
   "source": [
    "Lembrando que apenas colunas numéricas aparecem no describe()"
   ]
  },
  {
   "cell_type": "code",
   "execution_count": 23,
   "metadata": {},
   "outputs": [
    {
     "data": {
      "text/html": [
       "<div>\n",
       "<style scoped>\n",
       "    .dataframe tbody tr th:only-of-type {\n",
       "        vertical-align: middle;\n",
       "    }\n",
       "\n",
       "    .dataframe tbody tr th {\n",
       "        vertical-align: top;\n",
       "    }\n",
       "\n",
       "    .dataframe thead th {\n",
       "        text-align: right;\n",
       "    }\n",
       "</style>\n",
       "<table border=\"1\" class=\"dataframe\">\n",
       "  <thead>\n",
       "    <tr style=\"text-align: right;\">\n",
       "      <th></th>\n",
       "      <th>quartos</th>\n",
       "      <th>banheiros</th>\n",
       "      <th>vagas_garagem</th>\n",
       "      <th>cep</th>\n",
       "      <th>preco</th>\n",
       "    </tr>\n",
       "  </thead>\n",
       "  <tbody>\n",
       "    <tr>\n",
       "      <th>count</th>\n",
       "      <td>203845.000000</td>\n",
       "      <td>203845.000000</td>\n",
       "      <td>203845.000000</td>\n",
       "      <td>2.038450e+05</td>\n",
       "      <td>2.038450e+05</td>\n",
       "    </tr>\n",
       "    <tr>\n",
       "      <th>mean</th>\n",
       "      <td>2.467949</td>\n",
       "      <td>1.996478</td>\n",
       "      <td>1.481719</td>\n",
       "      <td>6.061587e+07</td>\n",
       "      <td>3.864945e+05</td>\n",
       "    </tr>\n",
       "    <tr>\n",
       "      <th>std</th>\n",
       "      <td>1.065969</td>\n",
       "      <td>1.329981</td>\n",
       "      <td>1.255914</td>\n",
       "      <td>2.092842e+07</td>\n",
       "      <td>1.250100e+06</td>\n",
       "    </tr>\n",
       "    <tr>\n",
       "      <th>min</th>\n",
       "      <td>0.000000</td>\n",
       "      <td>0.000000</td>\n",
       "      <td>0.000000</td>\n",
       "      <td>1.020000e+06</td>\n",
       "      <td>0.000000e+00</td>\n",
       "    </tr>\n",
       "    <tr>\n",
       "      <th>25%</th>\n",
       "      <td>2.000000</td>\n",
       "      <td>1.000000</td>\n",
       "      <td>1.000000</td>\n",
       "      <td>4.916000e+07</td>\n",
       "      <td>1.250000e+03</td>\n",
       "    </tr>\n",
       "    <tr>\n",
       "      <th>50%</th>\n",
       "      <td>2.000000</td>\n",
       "      <td>2.000000</td>\n",
       "      <td>1.000000</td>\n",
       "      <td>6.500000e+07</td>\n",
       "      <td>1.250000e+05</td>\n",
       "    </tr>\n",
       "    <tr>\n",
       "      <th>75%</th>\n",
       "      <td>3.000000</td>\n",
       "      <td>3.000000</td>\n",
       "      <td>2.000000</td>\n",
       "      <td>7.680131e+07</td>\n",
       "      <td>4.500000e+05</td>\n",
       "    </tr>\n",
       "    <tr>\n",
       "      <th>max</th>\n",
       "      <td>5.000000</td>\n",
       "      <td>5.000000</td>\n",
       "      <td>10.000000</td>\n",
       "      <td>9.971313e+07</td>\n",
       "      <td>1.500000e+08</td>\n",
       "    </tr>\n",
       "  </tbody>\n",
       "</table>\n",
       "</div>"
      ],
      "text/plain": [
       "             quartos      banheiros  vagas_garagem           cep         preco\n",
       "count  203845.000000  203845.000000  203845.000000  2.038450e+05  2.038450e+05\n",
       "mean        2.467949       1.996478       1.481719  6.061587e+07  3.864945e+05\n",
       "std         1.065969       1.329981       1.255914  2.092842e+07  1.250100e+06\n",
       "min         0.000000       0.000000       0.000000  1.020000e+06  0.000000e+00\n",
       "25%         2.000000       1.000000       1.000000  4.916000e+07  1.250000e+03\n",
       "50%         2.000000       2.000000       1.000000  6.500000e+07  1.250000e+05\n",
       "75%         3.000000       3.000000       2.000000  7.680131e+07  4.500000e+05\n",
       "max         5.000000       5.000000      10.000000  9.971313e+07  1.500000e+08"
      ]
     },
     "execution_count": 23,
     "metadata": {},
     "output_type": "execute_result"
    }
   ],
   "source": [
    "df.describe()"
   ]
  },
  {
   "cell_type": "markdown",
   "metadata": {},
   "source": [
    "A partir desse describe(), conseguimos notar que:\n",
    "- Em média, o número de quartos da amostra extraída dos imóveis anunciados na OLX é 2.\n",
    "- Em média, o número de banheiros da amostra extraída dos imóveis anunciados na OLX é de 2.\n",
    "- Em média, o número de vagas na garagem da amostra extraída dos imóveis anunciados na OLX é de 1."
   ]
  },
  {
   "cell_type": "markdown",
   "metadata": {},
   "source": [
    "Além disso, podemos observar que o preço mínimo é 0. O que, segundo a abordagem aqui escolhida, não faz sentido. Portanto, assim como foi feita a exclusão dos registros com preço nulo, as linhas com preço 0 também serão removidas."
   ]
  },
  {
   "cell_type": "markdown",
   "metadata": {},
   "source": [
    "#### Removendo as linhas com preço 0 "
   ]
  },
  {
   "cell_type": "code",
   "execution_count": 24,
   "metadata": {},
   "outputs": [
    {
     "name": "stdout",
     "output_type": "stream",
     "text": [
      "Quantidade de anúncios que o preço é 0: 5032\n"
     ]
    }
   ],
   "source": [
    "print(f\"Quantidade de anúncios que o preço é 0: {df.query('preco == 0.0').shape[0]}\")"
   ]
  },
  {
   "cell_type": "code",
   "execution_count": 25,
   "metadata": {},
   "outputs": [
    {
     "data": {
      "text/html": [
       "<div>\n",
       "<style scoped>\n",
       "    .dataframe tbody tr th:only-of-type {\n",
       "        vertical-align: middle;\n",
       "    }\n",
       "\n",
       "    .dataframe tbody tr th {\n",
       "        vertical-align: top;\n",
       "    }\n",
       "\n",
       "    .dataframe thead th {\n",
       "        text-align: right;\n",
       "    }\n",
       "</style>\n",
       "<table border=\"1\" class=\"dataframe\">\n",
       "  <thead>\n",
       "    <tr style=\"text-align: right;\">\n",
       "      <th></th>\n",
       "      <th>categoria</th>\n",
       "      <th>tipo</th>\n",
       "      <th>quartos</th>\n",
       "      <th>banheiros</th>\n",
       "      <th>vagas_garagem</th>\n",
       "      <th>detalhes_imovel</th>\n",
       "      <th>detalhes_condominio</th>\n",
       "      <th>cep</th>\n",
       "      <th>cidade</th>\n",
       "      <th>estado</th>\n",
       "      <th>bairro</th>\n",
       "      <th>preco</th>\n",
       "      <th>url</th>\n",
       "    </tr>\n",
       "  </thead>\n",
       "  <tbody>\n",
       "    <tr>\n",
       "      <th>0</th>\n",
       "      <td>Casas</td>\n",
       "      <td>Venda - casa em rua pública</td>\n",
       "      <td>3</td>\n",
       "      <td>1</td>\n",
       "      <td>2</td>\n",
       "      <td>NaN</td>\n",
       "      <td>NaN</td>\n",
       "      <td>69911349</td>\n",
       "      <td>Rio Branco</td>\n",
       "      <td>AC</td>\n",
       "      <td>Conjunto Bela Vista</td>\n",
       "      <td>194000.0</td>\n",
       "      <td>https://ac.olx.com.br/acre/imoveis/casa-a-vend...</td>\n",
       "    </tr>\n",
       "    <tr>\n",
       "      <th>1</th>\n",
       "      <td>Casas</td>\n",
       "      <td>Venda - casa em rua pública</td>\n",
       "      <td>3</td>\n",
       "      <td>1</td>\n",
       "      <td>2</td>\n",
       "      <td>Área de serviço, Armários na cozinha, Armários...</td>\n",
       "      <td>Área murada, Portão eletrônico</td>\n",
       "      <td>69919628</td>\n",
       "      <td>Rio Branco</td>\n",
       "      <td>AC</td>\n",
       "      <td>Jardim Primavera</td>\n",
       "      <td>120000.0</td>\n",
       "      <td>https://ac.olx.com.br/acre/imoveis/casa-mista-...</td>\n",
       "    </tr>\n",
       "    <tr>\n",
       "      <th>3</th>\n",
       "      <td>Casas</td>\n",
       "      <td>Venda - casa em rua pública</td>\n",
       "      <td>0</td>\n",
       "      <td>0</td>\n",
       "      <td>0</td>\n",
       "      <td>NaN</td>\n",
       "      <td>NaN</td>\n",
       "      <td>69930000</td>\n",
       "      <td>Xapuri</td>\n",
       "      <td>AC</td>\n",
       "      <td>NaN</td>\n",
       "      <td>45000.0</td>\n",
       "      <td>https://ac.olx.com.br/acre/imoveis/casa-reside...</td>\n",
       "    </tr>\n",
       "    <tr>\n",
       "      <th>4</th>\n",
       "      <td>Casas</td>\n",
       "      <td>Venda - casa em rua pública</td>\n",
       "      <td>3</td>\n",
       "      <td>2</td>\n",
       "      <td>3</td>\n",
       "      <td>Varanda</td>\n",
       "      <td>NaN</td>\n",
       "      <td>69919760</td>\n",
       "      <td>Rio Branco</td>\n",
       "      <td>AC</td>\n",
       "      <td>Conjunto Tucumã</td>\n",
       "      <td>270000.0</td>\n",
       "      <td>https://ac.olx.com.br/acre/imoveis/vende-se-ca...</td>\n",
       "    </tr>\n",
       "    <tr>\n",
       "      <th>5</th>\n",
       "      <td>Apartamentos</td>\n",
       "      <td>Venda - apartamento padrão</td>\n",
       "      <td>3</td>\n",
       "      <td>2</td>\n",
       "      <td>2</td>\n",
       "      <td>Área de serviço, Churrasqueira, Varanda</td>\n",
       "      <td>Condomínio fechado, Elevador, Segurança 24h, P...</td>\n",
       "      <td>69900000</td>\n",
       "      <td>Rio Branco</td>\n",
       "      <td>AC</td>\n",
       "      <td>NaN</td>\n",
       "      <td>350864.0</td>\n",
       "      <td>https://ac.olx.com.br/acre/imoveis/parkia-boul...</td>\n",
       "    </tr>\n",
       "  </tbody>\n",
       "</table>\n",
       "</div>"
      ],
      "text/plain": [
       "      categoria                         tipo  quartos  banheiros  \\\n",
       "0         Casas  Venda - casa em rua pública        3          1   \n",
       "1         Casas  Venda - casa em rua pública        3          1   \n",
       "3         Casas  Venda - casa em rua pública        0          0   \n",
       "4         Casas  Venda - casa em rua pública        3          2   \n",
       "5  Apartamentos   Venda - apartamento padrão        3          2   \n",
       "\n",
       "   vagas_garagem                                    detalhes_imovel  \\\n",
       "0              2                                                NaN   \n",
       "1              2  Área de serviço, Armários na cozinha, Armários...   \n",
       "3              0                                                NaN   \n",
       "4              3                                            Varanda   \n",
       "5              2            Área de serviço, Churrasqueira, Varanda   \n",
       "\n",
       "                                 detalhes_condominio       cep      cidade  \\\n",
       "0                                                NaN  69911349  Rio Branco   \n",
       "1                     Área murada, Portão eletrônico  69919628  Rio Branco   \n",
       "3                                                NaN  69930000      Xapuri   \n",
       "4                                                NaN  69919760  Rio Branco   \n",
       "5  Condomínio fechado, Elevador, Segurança 24h, P...  69900000  Rio Branco   \n",
       "\n",
       "  estado               bairro     preco  \\\n",
       "0     AC  Conjunto Bela Vista  194000.0   \n",
       "1     AC     Jardim Primavera  120000.0   \n",
       "3     AC                  NaN   45000.0   \n",
       "4     AC      Conjunto Tucumã  270000.0   \n",
       "5     AC                  NaN  350864.0   \n",
       "\n",
       "                                                 url  \n",
       "0  https://ac.olx.com.br/acre/imoveis/casa-a-vend...  \n",
       "1  https://ac.olx.com.br/acre/imoveis/casa-mista-...  \n",
       "3  https://ac.olx.com.br/acre/imoveis/casa-reside...  \n",
       "4  https://ac.olx.com.br/acre/imoveis/vende-se-ca...  \n",
       "5  https://ac.olx.com.br/acre/imoveis/parkia-boul...  "
      ]
     },
     "execution_count": 25,
     "metadata": {},
     "output_type": "execute_result"
    }
   ],
   "source": [
    "df = df.drop(df.query(\"preco == 0.0\").index)\n",
    "df.head()"
   ]
  },
  {
   "cell_type": "code",
   "execution_count": 26,
   "metadata": {},
   "outputs": [
    {
     "data": {
      "text/plain": [
       "(198813, 13)"
      ]
     },
     "execution_count": 26,
     "metadata": {},
     "output_type": "execute_result"
    }
   ],
   "source": [
    "df.shape"
   ]
  },
  {
   "cell_type": "markdown",
   "metadata": {},
   "source": [
    "#### Verificando se há valores nulos nas outras colunas e decidindo a abordagem "
   ]
  },
  {
   "cell_type": "code",
   "execution_count": 27,
   "metadata": {},
   "outputs": [
    {
     "data": {
      "text/plain": [
       "categoria                   0\n",
       "tipo                     3504\n",
       "quartos                     0\n",
       "banheiros                   0\n",
       "vagas_garagem               0\n",
       "detalhes_imovel         74054\n",
       "detalhes_condominio    100295\n",
       "cep                         0\n",
       "cidade                      3\n",
       "estado                      0\n",
       "bairro                  22070\n",
       "preco                       0\n",
       "url                         0\n",
       "dtype: int64"
      ]
     },
     "execution_count": 27,
     "metadata": {},
     "output_type": "execute_result"
    }
   ],
   "source": [
    "df.isnull().sum()"
   ]
  },
  {
   "cell_type": "markdown",
   "metadata": {},
   "source": [
    "Observe que as únicas colunas que possuem valor nulo são: tipo, detalhes_imovel, detalhes_condominio, bairro, cidade."
   ]
  },
  {
   "cell_type": "markdown",
   "metadata": {},
   "source": [
    "Como a quantidade de anúncios que não possui cidade informada é pequena (apenas 3), irei removê-los da base.\n",
    "Em contrapartida, como os outros campos têm muitos valores nulos, irei fazer uma substituição desses valores para \"Não informado\", o que faz sentido com os campos."
   ]
  },
  {
   "cell_type": "markdown",
   "metadata": {},
   "source": [
    "#### Removendo os registros que possuem cidade nula "
   ]
  },
  {
   "cell_type": "code",
   "execution_count": 28,
   "metadata": {},
   "outputs": [],
   "source": [
    "df = df.dropna(subset=['cidade'])"
   ]
  },
  {
   "cell_type": "code",
   "execution_count": 29,
   "metadata": {},
   "outputs": [
    {
     "data": {
      "text/plain": [
       "(198810, 13)"
      ]
     },
     "execution_count": 29,
     "metadata": {},
     "output_type": "execute_result"
    }
   ],
   "source": [
    "df.shape"
   ]
  },
  {
   "cell_type": "markdown",
   "metadata": {},
   "source": [
    "#### Substituindo os valores nulos das colunas tipo, detalhes_imovel, detalhes_condominio e bairro para \"Não informado\" "
   ]
  },
  {
   "cell_type": "code",
   "execution_count": 30,
   "metadata": {},
   "outputs": [],
   "source": [
    "df.tipo = df.tipo.fillna('Não informado')\n",
    "df.detalhes_imovel = df.detalhes_imovel.fillna('Não informado')\n",
    "df.detalhes_condominio = df.detalhes_condominio.fillna('Não informado')\n",
    "df.bairro = df.bairro.fillna('Não informado')"
   ]
  },
  {
   "cell_type": "code",
   "execution_count": 31,
   "metadata": {},
   "outputs": [
    {
     "data": {
      "text/plain": [
       "(198810, 13)"
      ]
     },
     "execution_count": 31,
     "metadata": {},
     "output_type": "execute_result"
    }
   ],
   "source": [
    "df.shape"
   ]
  },
  {
   "cell_type": "code",
   "execution_count": 32,
   "metadata": {},
   "outputs": [
    {
     "data": {
      "text/plain": [
       "categoria              0\n",
       "tipo                   0\n",
       "quartos                0\n",
       "banheiros              0\n",
       "vagas_garagem          0\n",
       "detalhes_imovel        0\n",
       "detalhes_condominio    0\n",
       "cep                    0\n",
       "cidade                 0\n",
       "estado                 0\n",
       "bairro                 0\n",
       "preco                  0\n",
       "url                    0\n",
       "dtype: int64"
      ]
     },
     "execution_count": 32,
     "metadata": {},
     "output_type": "execute_result"
    }
   ],
   "source": [
    "df.isnull().sum()"
   ]
  },
  {
   "cell_type": "code",
   "execution_count": 33,
   "metadata": {},
   "outputs": [
    {
     "data": {
      "text/html": [
       "<div>\n",
       "<style scoped>\n",
       "    .dataframe tbody tr th:only-of-type {\n",
       "        vertical-align: middle;\n",
       "    }\n",
       "\n",
       "    .dataframe tbody tr th {\n",
       "        vertical-align: top;\n",
       "    }\n",
       "\n",
       "    .dataframe thead th {\n",
       "        text-align: right;\n",
       "    }\n",
       "</style>\n",
       "<table border=\"1\" class=\"dataframe\">\n",
       "  <thead>\n",
       "    <tr style=\"text-align: right;\">\n",
       "      <th></th>\n",
       "      <th>categoria</th>\n",
       "      <th>tipo</th>\n",
       "      <th>quartos</th>\n",
       "      <th>banheiros</th>\n",
       "      <th>vagas_garagem</th>\n",
       "      <th>detalhes_imovel</th>\n",
       "      <th>detalhes_condominio</th>\n",
       "      <th>cep</th>\n",
       "      <th>cidade</th>\n",
       "      <th>estado</th>\n",
       "      <th>bairro</th>\n",
       "      <th>preco</th>\n",
       "      <th>url</th>\n",
       "    </tr>\n",
       "  </thead>\n",
       "  <tbody>\n",
       "    <tr>\n",
       "      <th>0</th>\n",
       "      <td>Casas</td>\n",
       "      <td>Venda - casa em rua pública</td>\n",
       "      <td>3</td>\n",
       "      <td>1</td>\n",
       "      <td>2</td>\n",
       "      <td>Não informado</td>\n",
       "      <td>Não informado</td>\n",
       "      <td>69911349</td>\n",
       "      <td>Rio Branco</td>\n",
       "      <td>AC</td>\n",
       "      <td>Conjunto Bela Vista</td>\n",
       "      <td>194000.0</td>\n",
       "      <td>https://ac.olx.com.br/acre/imoveis/casa-a-vend...</td>\n",
       "    </tr>\n",
       "    <tr>\n",
       "      <th>1</th>\n",
       "      <td>Casas</td>\n",
       "      <td>Venda - casa em rua pública</td>\n",
       "      <td>3</td>\n",
       "      <td>1</td>\n",
       "      <td>2</td>\n",
       "      <td>Área de serviço, Armários na cozinha, Armários...</td>\n",
       "      <td>Área murada, Portão eletrônico</td>\n",
       "      <td>69919628</td>\n",
       "      <td>Rio Branco</td>\n",
       "      <td>AC</td>\n",
       "      <td>Jardim Primavera</td>\n",
       "      <td>120000.0</td>\n",
       "      <td>https://ac.olx.com.br/acre/imoveis/casa-mista-...</td>\n",
       "    </tr>\n",
       "    <tr>\n",
       "      <th>3</th>\n",
       "      <td>Casas</td>\n",
       "      <td>Venda - casa em rua pública</td>\n",
       "      <td>0</td>\n",
       "      <td>0</td>\n",
       "      <td>0</td>\n",
       "      <td>Não informado</td>\n",
       "      <td>Não informado</td>\n",
       "      <td>69930000</td>\n",
       "      <td>Xapuri</td>\n",
       "      <td>AC</td>\n",
       "      <td>Não informado</td>\n",
       "      <td>45000.0</td>\n",
       "      <td>https://ac.olx.com.br/acre/imoveis/casa-reside...</td>\n",
       "    </tr>\n",
       "    <tr>\n",
       "      <th>4</th>\n",
       "      <td>Casas</td>\n",
       "      <td>Venda - casa em rua pública</td>\n",
       "      <td>3</td>\n",
       "      <td>2</td>\n",
       "      <td>3</td>\n",
       "      <td>Varanda</td>\n",
       "      <td>Não informado</td>\n",
       "      <td>69919760</td>\n",
       "      <td>Rio Branco</td>\n",
       "      <td>AC</td>\n",
       "      <td>Conjunto Tucumã</td>\n",
       "      <td>270000.0</td>\n",
       "      <td>https://ac.olx.com.br/acre/imoveis/vende-se-ca...</td>\n",
       "    </tr>\n",
       "    <tr>\n",
       "      <th>5</th>\n",
       "      <td>Apartamentos</td>\n",
       "      <td>Venda - apartamento padrão</td>\n",
       "      <td>3</td>\n",
       "      <td>2</td>\n",
       "      <td>2</td>\n",
       "      <td>Área de serviço, Churrasqueira, Varanda</td>\n",
       "      <td>Condomínio fechado, Elevador, Segurança 24h, P...</td>\n",
       "      <td>69900000</td>\n",
       "      <td>Rio Branco</td>\n",
       "      <td>AC</td>\n",
       "      <td>Não informado</td>\n",
       "      <td>350864.0</td>\n",
       "      <td>https://ac.olx.com.br/acre/imoveis/parkia-boul...</td>\n",
       "    </tr>\n",
       "  </tbody>\n",
       "</table>\n",
       "</div>"
      ],
      "text/plain": [
       "      categoria                         tipo  quartos  banheiros  \\\n",
       "0         Casas  Venda - casa em rua pública        3          1   \n",
       "1         Casas  Venda - casa em rua pública        3          1   \n",
       "3         Casas  Venda - casa em rua pública        0          0   \n",
       "4         Casas  Venda - casa em rua pública        3          2   \n",
       "5  Apartamentos   Venda - apartamento padrão        3          2   \n",
       "\n",
       "   vagas_garagem                                    detalhes_imovel  \\\n",
       "0              2                                      Não informado   \n",
       "1              2  Área de serviço, Armários na cozinha, Armários...   \n",
       "3              0                                      Não informado   \n",
       "4              3                                            Varanda   \n",
       "5              2            Área de serviço, Churrasqueira, Varanda   \n",
       "\n",
       "                                 detalhes_condominio       cep      cidade  \\\n",
       "0                                      Não informado  69911349  Rio Branco   \n",
       "1                     Área murada, Portão eletrônico  69919628  Rio Branco   \n",
       "3                                      Não informado  69930000      Xapuri   \n",
       "4                                      Não informado  69919760  Rio Branco   \n",
       "5  Condomínio fechado, Elevador, Segurança 24h, P...  69900000  Rio Branco   \n",
       "\n",
       "  estado               bairro     preco  \\\n",
       "0     AC  Conjunto Bela Vista  194000.0   \n",
       "1     AC     Jardim Primavera  120000.0   \n",
       "3     AC        Não informado   45000.0   \n",
       "4     AC      Conjunto Tucumã  270000.0   \n",
       "5     AC        Não informado  350864.0   \n",
       "\n",
       "                                                 url  \n",
       "0  https://ac.olx.com.br/acre/imoveis/casa-a-vend...  \n",
       "1  https://ac.olx.com.br/acre/imoveis/casa-mista-...  \n",
       "3  https://ac.olx.com.br/acre/imoveis/casa-reside...  \n",
       "4  https://ac.olx.com.br/acre/imoveis/vende-se-ca...  \n",
       "5  https://ac.olx.com.br/acre/imoveis/parkia-boul...  "
      ]
     },
     "execution_count": 33,
     "metadata": {},
     "output_type": "execute_result"
    }
   ],
   "source": [
    "df.head()"
   ]
  },
  {
   "cell_type": "markdown",
   "metadata": {},
   "source": [
    "#### Visualizando os valores únicos da coluna categoria"
   ]
  },
  {
   "cell_type": "code",
   "execution_count": 34,
   "metadata": {},
   "outputs": [
    {
     "data": {
      "text/plain": [
       "Apartamentos                      122562\n",
       "Casas                              72744\n",
       "Aluguel de quartos                  3502\n",
       "Temporada                              1\n",
       "Aluguel - casas e apartamentos         1\n",
       "Name: categoria, dtype: int64"
      ]
     },
     "execution_count": 34,
     "metadata": {},
     "output_type": "execute_result"
    }
   ],
   "source": [
    "df.categoria.value_counts()"
   ]
  },
  {
   "cell_type": "markdown",
   "metadata": {},
   "source": [
    "Visualizando as informações dos anúncios que possuem categoria igual a Temporada e igual a Aluguel - casas e apartamentos. Note, que só tem 1 anúncio de cada categoria dessas."
   ]
  },
  {
   "cell_type": "code",
   "execution_count": 35,
   "metadata": {},
   "outputs": [
    {
     "data": {
      "text/html": [
       "<div>\n",
       "<style scoped>\n",
       "    .dataframe tbody tr th:only-of-type {\n",
       "        vertical-align: middle;\n",
       "    }\n",
       "\n",
       "    .dataframe tbody tr th {\n",
       "        vertical-align: top;\n",
       "    }\n",
       "\n",
       "    .dataframe thead th {\n",
       "        text-align: right;\n",
       "    }\n",
       "</style>\n",
       "<table border=\"1\" class=\"dataframe\">\n",
       "  <thead>\n",
       "    <tr style=\"text-align: right;\">\n",
       "      <th></th>\n",
       "      <th>categoria</th>\n",
       "      <th>tipo</th>\n",
       "      <th>quartos</th>\n",
       "      <th>banheiros</th>\n",
       "      <th>vagas_garagem</th>\n",
       "      <th>detalhes_imovel</th>\n",
       "      <th>detalhes_condominio</th>\n",
       "      <th>cep</th>\n",
       "      <th>cidade</th>\n",
       "      <th>estado</th>\n",
       "      <th>bairro</th>\n",
       "      <th>preco</th>\n",
       "      <th>url</th>\n",
       "    </tr>\n",
       "  </thead>\n",
       "  <tbody>\n",
       "    <tr>\n",
       "      <th>189695</th>\n",
       "      <td>Temporada</td>\n",
       "      <td>Não informado</td>\n",
       "      <td>2</td>\n",
       "      <td>0</td>\n",
       "      <td>1</td>\n",
       "      <td>Não informado</td>\n",
       "      <td>Não informado</td>\n",
       "      <td>88220000</td>\n",
       "      <td>Itapema</td>\n",
       "      <td>SC</td>\n",
       "      <td>Não informado</td>\n",
       "      <td>350.0</td>\n",
       "      <td>https://sc.olx.com.br/norte-de-santa-catarina/...</td>\n",
       "    </tr>\n",
       "  </tbody>\n",
       "</table>\n",
       "</div>"
      ],
      "text/plain": [
       "        categoria           tipo  quartos  banheiros  vagas_garagem  \\\n",
       "189695  Temporada  Não informado        2          0              1   \n",
       "\n",
       "       detalhes_imovel detalhes_condominio       cep   cidade estado  \\\n",
       "189695   Não informado       Não informado  88220000  Itapema     SC   \n",
       "\n",
       "               bairro  preco  \\\n",
       "189695  Não informado  350.0   \n",
       "\n",
       "                                                      url  \n",
       "189695  https://sc.olx.com.br/norte-de-santa-catarina/...  "
      ]
     },
     "execution_count": 35,
     "metadata": {},
     "output_type": "execute_result"
    }
   ],
   "source": [
    "df.query(\"categoria == 'Temporada'\")"
   ]
  },
  {
   "cell_type": "code",
   "execution_count": 36,
   "metadata": {},
   "outputs": [
    {
     "data": {
      "text/html": [
       "<div>\n",
       "<style scoped>\n",
       "    .dataframe tbody tr th:only-of-type {\n",
       "        vertical-align: middle;\n",
       "    }\n",
       "\n",
       "    .dataframe tbody tr th {\n",
       "        vertical-align: top;\n",
       "    }\n",
       "\n",
       "    .dataframe thead th {\n",
       "        text-align: right;\n",
       "    }\n",
       "</style>\n",
       "<table border=\"1\" class=\"dataframe\">\n",
       "  <thead>\n",
       "    <tr style=\"text-align: right;\">\n",
       "      <th></th>\n",
       "      <th>categoria</th>\n",
       "      <th>tipo</th>\n",
       "      <th>quartos</th>\n",
       "      <th>banheiros</th>\n",
       "      <th>vagas_garagem</th>\n",
       "      <th>detalhes_imovel</th>\n",
       "      <th>detalhes_condominio</th>\n",
       "      <th>cep</th>\n",
       "      <th>cidade</th>\n",
       "      <th>estado</th>\n",
       "      <th>bairro</th>\n",
       "      <th>preco</th>\n",
       "      <th>url</th>\n",
       "    </tr>\n",
       "  </thead>\n",
       "  <tbody>\n",
       "    <tr>\n",
       "      <th>72050</th>\n",
       "      <td>Aluguel - casas e apartamentos</td>\n",
       "      <td>Não informado</td>\n",
       "      <td>0</td>\n",
       "      <td>0</td>\n",
       "      <td>0</td>\n",
       "      <td>Não informado</td>\n",
       "      <td>Não informado</td>\n",
       "      <td>65060641</td>\n",
       "      <td>São Luís</td>\n",
       "      <td>MA</td>\n",
       "      <td>Angelim</td>\n",
       "      <td>400.0</td>\n",
       "      <td>https://ma.olx.com.br/regiao-de-sao-luis/imove...</td>\n",
       "    </tr>\n",
       "  </tbody>\n",
       "</table>\n",
       "</div>"
      ],
      "text/plain": [
       "                            categoria           tipo  quartos  banheiros  \\\n",
       "72050  Aluguel - casas e apartamentos  Não informado        0          0   \n",
       "\n",
       "       vagas_garagem detalhes_imovel detalhes_condominio       cep    cidade  \\\n",
       "72050              0   Não informado       Não informado  65060641  São Luís   \n",
       "\n",
       "      estado   bairro  preco  \\\n",
       "72050     MA  Angelim  400.0   \n",
       "\n",
       "                                                     url  \n",
       "72050  https://ma.olx.com.br/regiao-de-sao-luis/imove...  "
      ]
     },
     "execution_count": 36,
     "metadata": {},
     "output_type": "execute_result"
    }
   ],
   "source": [
    "df.query(\"categoria == 'Aluguel - casas e apartamentos'\")"
   ]
  },
  {
   "cell_type": "markdown",
   "metadata": {},
   "source": [
    "Como só temos um anúncio de cada e não temos o tipo de imóvel/anúncio desses casos para nos auxiliar a renomear o campo de categoria para um que fizesse sentido e que tem mais registros, optei por remover essas linhas."
   ]
  },
  {
   "cell_type": "code",
   "execution_count": 37,
   "metadata": {},
   "outputs": [
    {
     "data": {
      "text/html": [
       "<div>\n",
       "<style scoped>\n",
       "    .dataframe tbody tr th:only-of-type {\n",
       "        vertical-align: middle;\n",
       "    }\n",
       "\n",
       "    .dataframe tbody tr th {\n",
       "        vertical-align: top;\n",
       "    }\n",
       "\n",
       "    .dataframe thead th {\n",
       "        text-align: right;\n",
       "    }\n",
       "</style>\n",
       "<table border=\"1\" class=\"dataframe\">\n",
       "  <thead>\n",
       "    <tr style=\"text-align: right;\">\n",
       "      <th></th>\n",
       "      <th>categoria</th>\n",
       "      <th>tipo</th>\n",
       "      <th>quartos</th>\n",
       "      <th>banheiros</th>\n",
       "      <th>vagas_garagem</th>\n",
       "      <th>detalhes_imovel</th>\n",
       "      <th>detalhes_condominio</th>\n",
       "      <th>cep</th>\n",
       "      <th>cidade</th>\n",
       "      <th>estado</th>\n",
       "      <th>bairro</th>\n",
       "      <th>preco</th>\n",
       "      <th>url</th>\n",
       "    </tr>\n",
       "  </thead>\n",
       "  <tbody>\n",
       "    <tr>\n",
       "      <th>0</th>\n",
       "      <td>Casas</td>\n",
       "      <td>Venda - casa em rua pública</td>\n",
       "      <td>3</td>\n",
       "      <td>1</td>\n",
       "      <td>2</td>\n",
       "      <td>Não informado</td>\n",
       "      <td>Não informado</td>\n",
       "      <td>69911349</td>\n",
       "      <td>Rio Branco</td>\n",
       "      <td>AC</td>\n",
       "      <td>Conjunto Bela Vista</td>\n",
       "      <td>194000.0</td>\n",
       "      <td>https://ac.olx.com.br/acre/imoveis/casa-a-vend...</td>\n",
       "    </tr>\n",
       "    <tr>\n",
       "      <th>1</th>\n",
       "      <td>Casas</td>\n",
       "      <td>Venda - casa em rua pública</td>\n",
       "      <td>3</td>\n",
       "      <td>1</td>\n",
       "      <td>2</td>\n",
       "      <td>Área de serviço, Armários na cozinha, Armários...</td>\n",
       "      <td>Área murada, Portão eletrônico</td>\n",
       "      <td>69919628</td>\n",
       "      <td>Rio Branco</td>\n",
       "      <td>AC</td>\n",
       "      <td>Jardim Primavera</td>\n",
       "      <td>120000.0</td>\n",
       "      <td>https://ac.olx.com.br/acre/imoveis/casa-mista-...</td>\n",
       "    </tr>\n",
       "    <tr>\n",
       "      <th>3</th>\n",
       "      <td>Casas</td>\n",
       "      <td>Venda - casa em rua pública</td>\n",
       "      <td>0</td>\n",
       "      <td>0</td>\n",
       "      <td>0</td>\n",
       "      <td>Não informado</td>\n",
       "      <td>Não informado</td>\n",
       "      <td>69930000</td>\n",
       "      <td>Xapuri</td>\n",
       "      <td>AC</td>\n",
       "      <td>Não informado</td>\n",
       "      <td>45000.0</td>\n",
       "      <td>https://ac.olx.com.br/acre/imoveis/casa-reside...</td>\n",
       "    </tr>\n",
       "    <tr>\n",
       "      <th>4</th>\n",
       "      <td>Casas</td>\n",
       "      <td>Venda - casa em rua pública</td>\n",
       "      <td>3</td>\n",
       "      <td>2</td>\n",
       "      <td>3</td>\n",
       "      <td>Varanda</td>\n",
       "      <td>Não informado</td>\n",
       "      <td>69919760</td>\n",
       "      <td>Rio Branco</td>\n",
       "      <td>AC</td>\n",
       "      <td>Conjunto Tucumã</td>\n",
       "      <td>270000.0</td>\n",
       "      <td>https://ac.olx.com.br/acre/imoveis/vende-se-ca...</td>\n",
       "    </tr>\n",
       "    <tr>\n",
       "      <th>5</th>\n",
       "      <td>Apartamentos</td>\n",
       "      <td>Venda - apartamento padrão</td>\n",
       "      <td>3</td>\n",
       "      <td>2</td>\n",
       "      <td>2</td>\n",
       "      <td>Área de serviço, Churrasqueira, Varanda</td>\n",
       "      <td>Condomínio fechado, Elevador, Segurança 24h, P...</td>\n",
       "      <td>69900000</td>\n",
       "      <td>Rio Branco</td>\n",
       "      <td>AC</td>\n",
       "      <td>Não informado</td>\n",
       "      <td>350864.0</td>\n",
       "      <td>https://ac.olx.com.br/acre/imoveis/parkia-boul...</td>\n",
       "    </tr>\n",
       "  </tbody>\n",
       "</table>\n",
       "</div>"
      ],
      "text/plain": [
       "      categoria                         tipo  quartos  banheiros  \\\n",
       "0         Casas  Venda - casa em rua pública        3          1   \n",
       "1         Casas  Venda - casa em rua pública        3          1   \n",
       "3         Casas  Venda - casa em rua pública        0          0   \n",
       "4         Casas  Venda - casa em rua pública        3          2   \n",
       "5  Apartamentos   Venda - apartamento padrão        3          2   \n",
       "\n",
       "   vagas_garagem                                    detalhes_imovel  \\\n",
       "0              2                                      Não informado   \n",
       "1              2  Área de serviço, Armários na cozinha, Armários...   \n",
       "3              0                                      Não informado   \n",
       "4              3                                            Varanda   \n",
       "5              2            Área de serviço, Churrasqueira, Varanda   \n",
       "\n",
       "                                 detalhes_condominio       cep      cidade  \\\n",
       "0                                      Não informado  69911349  Rio Branco   \n",
       "1                     Área murada, Portão eletrônico  69919628  Rio Branco   \n",
       "3                                      Não informado  69930000      Xapuri   \n",
       "4                                      Não informado  69919760  Rio Branco   \n",
       "5  Condomínio fechado, Elevador, Segurança 24h, P...  69900000  Rio Branco   \n",
       "\n",
       "  estado               bairro     preco  \\\n",
       "0     AC  Conjunto Bela Vista  194000.0   \n",
       "1     AC     Jardim Primavera  120000.0   \n",
       "3     AC        Não informado   45000.0   \n",
       "4     AC      Conjunto Tucumã  270000.0   \n",
       "5     AC        Não informado  350864.0   \n",
       "\n",
       "                                                 url  \n",
       "0  https://ac.olx.com.br/acre/imoveis/casa-a-vend...  \n",
       "1  https://ac.olx.com.br/acre/imoveis/casa-mista-...  \n",
       "3  https://ac.olx.com.br/acre/imoveis/casa-reside...  \n",
       "4  https://ac.olx.com.br/acre/imoveis/vende-se-ca...  \n",
       "5  https://ac.olx.com.br/acre/imoveis/parkia-boul...  "
      ]
     },
     "execution_count": 37,
     "metadata": {},
     "output_type": "execute_result"
    }
   ],
   "source": [
    "df = df[~df.categoria.isin(['Aluguel - casas e apartamentos', 'Temporada'])]\n",
    "df.head()"
   ]
  },
  {
   "cell_type": "code",
   "execution_count": 38,
   "metadata": {},
   "outputs": [
    {
     "data": {
      "text/plain": [
       "Apartamentos          122562\n",
       "Casas                  72744\n",
       "Aluguel de quartos      3502\n",
       "Name: categoria, dtype: int64"
      ]
     },
     "execution_count": 38,
     "metadata": {},
     "output_type": "execute_result"
    }
   ],
   "source": [
    "df.categoria.value_counts()"
   ]
  },
  {
   "cell_type": "markdown",
   "metadata": {},
   "source": [
    "#### Criando uma coluna que indica se o imóvel é pra alugar ou pra vender (de forma mais direta) "
   ]
  },
  {
   "cell_type": "markdown",
   "metadata": {},
   "source": [
    "Na coluna tipo, temos a indicação de ser um imóvel para venda ou para aluguel. Dessa forma, criarei uma outra coluna que mostre de forma mais direta isso usando essa coluna. Porém, alguns anúncios ficarão com o valor 'Não informado' nessa nova coluna, caso o tipo também tenha esse valor."
   ]
  },
  {
   "cell_type": "code",
   "execution_count": 39,
   "metadata": {},
   "outputs": [
    {
     "data": {
      "text/plain": [
       "Venda - apartamento padrão              60839\n",
       "Aluguel - apartamento padrão            54091\n",
       "Venda - casa em rua pública             37185\n",
       "Aluguel - casa em rua pública           18464\n",
       "Venda - casa em condominio fechado      11392\n",
       "Aluguel - apartamento kitchenette        4400\n",
       "Aluguel - casa em condominio fechado     3523\n",
       "Não informado                            3502\n",
       "Aluguel - casa em vila                   1452\n",
       "Venda - apartamento cobertura             853\n",
       "Aluguel - loft/studio                     755\n",
       "Venda - casa em vila                      717\n",
       "Aluguel - apartamento cobertura           484\n",
       "Venda - loft/studio                       338\n",
       "Venda - apartamento duplex/triplex        297\n",
       "Aluguel - apartamento duplex/triplex      276\n",
       "Venda - apartamento kitchenette           229\n",
       "Venda - casa                                7\n",
       "Aluguel - casa                              4\n",
       "Name: tipo, dtype: int64"
      ]
     },
     "execution_count": 39,
     "metadata": {},
     "output_type": "execute_result"
    }
   ],
   "source": [
    "df.tipo.value_counts()"
   ]
  },
  {
   "cell_type": "code",
   "execution_count": 40,
   "metadata": {},
   "outputs": [
    {
     "data": {
      "text/plain": [
       "Não informado    3502\n",
       "Name: tipo, dtype: int64"
      ]
     },
     "execution_count": 40,
     "metadata": {},
     "output_type": "execute_result"
    }
   ],
   "source": [
    "df_tipo_nao_informado = df[df.tipo.isin(['Não informado'])]\n",
    "df_tipo_nao_informado.tipo.value_counts()"
   ]
  },
  {
   "cell_type": "code",
   "execution_count": 41,
   "metadata": {},
   "outputs": [
    {
     "data": {
      "text/plain": [
       "Venda - apartamento padrão              60839\n",
       "Aluguel - apartamento padrão            54091\n",
       "Venda - casa em rua pública             37185\n",
       "Aluguel - casa em rua pública           18464\n",
       "Venda - casa em condominio fechado      11392\n",
       "Aluguel - apartamento kitchenette        4400\n",
       "Aluguel - casa em condominio fechado     3523\n",
       "Aluguel - casa em vila                   1452\n",
       "Venda - apartamento cobertura             853\n",
       "Aluguel - loft/studio                     755\n",
       "Venda - casa em vila                      717\n",
       "Aluguel - apartamento cobertura           484\n",
       "Venda - loft/studio                       338\n",
       "Venda - apartamento duplex/triplex        297\n",
       "Aluguel - apartamento duplex/triplex      276\n",
       "Venda - apartamento kitchenette           229\n",
       "Venda - casa                                7\n",
       "Aluguel - casa                              4\n",
       "Name: tipo, dtype: int64"
      ]
     },
     "execution_count": 41,
     "metadata": {},
     "output_type": "execute_result"
    }
   ],
   "source": [
    "df_tipo_informado = df[~df.tipo.isin(['Não informado'])]\n",
    "df_tipo_informado.tipo.value_counts()"
   ]
  },
  {
   "cell_type": "code",
   "execution_count": 42,
   "metadata": {},
   "outputs": [
    {
     "name": "stderr",
     "output_type": "stream",
     "text": [
      "C:\\Users\\Admin\\anaconda3\\lib\\site-packages\\ipykernel_launcher.py:1: SettingWithCopyWarning: \n",
      "A value is trying to be set on a copy of a slice from a DataFrame.\n",
      "Try using .loc[row_indexer,col_indexer] = value instead\n",
      "\n",
      "See the caveats in the documentation: https://pandas.pydata.org/pandas-docs/stable/user_guide/indexing.html#returning-a-view-versus-a-copy\n",
      "  \"\"\"Entry point for launching an IPython kernel.\n"
     ]
    },
    {
     "data": {
      "text/plain": [
       "Venda       111857\n",
       "Aluguel      83449\n",
       "Name: operacao, dtype: int64"
      ]
     },
     "execution_count": 42,
     "metadata": {},
     "output_type": "execute_result"
    }
   ],
   "source": [
    "df_tipo_informado['operacao'] = df_tipo_informado.tipo.str.split('-').str[0]\n",
    "df_tipo_informado['operacao'].value_counts()"
   ]
  },
  {
   "cell_type": "code",
   "execution_count": 43,
   "metadata": {},
   "outputs": [
    {
     "data": {
      "text/html": [
       "<div>\n",
       "<style scoped>\n",
       "    .dataframe tbody tr th:only-of-type {\n",
       "        vertical-align: middle;\n",
       "    }\n",
       "\n",
       "    .dataframe tbody tr th {\n",
       "        vertical-align: top;\n",
       "    }\n",
       "\n",
       "    .dataframe thead th {\n",
       "        text-align: right;\n",
       "    }\n",
       "</style>\n",
       "<table border=\"1\" class=\"dataframe\">\n",
       "  <thead>\n",
       "    <tr style=\"text-align: right;\">\n",
       "      <th></th>\n",
       "      <th>categoria</th>\n",
       "      <th>tipo</th>\n",
       "      <th>quartos</th>\n",
       "      <th>banheiros</th>\n",
       "      <th>vagas_garagem</th>\n",
       "      <th>detalhes_imovel</th>\n",
       "      <th>detalhes_condominio</th>\n",
       "      <th>cep</th>\n",
       "      <th>cidade</th>\n",
       "      <th>estado</th>\n",
       "      <th>bairro</th>\n",
       "      <th>preco</th>\n",
       "      <th>url</th>\n",
       "      <th>operacao</th>\n",
       "    </tr>\n",
       "  </thead>\n",
       "  <tbody>\n",
       "    <tr>\n",
       "      <th>0</th>\n",
       "      <td>Casas</td>\n",
       "      <td>Venda - casa em rua pública</td>\n",
       "      <td>3</td>\n",
       "      <td>1</td>\n",
       "      <td>2</td>\n",
       "      <td>Não informado</td>\n",
       "      <td>Não informado</td>\n",
       "      <td>69911349</td>\n",
       "      <td>Rio Branco</td>\n",
       "      <td>AC</td>\n",
       "      <td>Conjunto Bela Vista</td>\n",
       "      <td>194000.0</td>\n",
       "      <td>https://ac.olx.com.br/acre/imoveis/casa-a-vend...</td>\n",
       "      <td>Venda</td>\n",
       "    </tr>\n",
       "    <tr>\n",
       "      <th>1</th>\n",
       "      <td>Casas</td>\n",
       "      <td>Venda - casa em rua pública</td>\n",
       "      <td>3</td>\n",
       "      <td>1</td>\n",
       "      <td>2</td>\n",
       "      <td>Área de serviço, Armários na cozinha, Armários...</td>\n",
       "      <td>Área murada, Portão eletrônico</td>\n",
       "      <td>69919628</td>\n",
       "      <td>Rio Branco</td>\n",
       "      <td>AC</td>\n",
       "      <td>Jardim Primavera</td>\n",
       "      <td>120000.0</td>\n",
       "      <td>https://ac.olx.com.br/acre/imoveis/casa-mista-...</td>\n",
       "      <td>Venda</td>\n",
       "    </tr>\n",
       "    <tr>\n",
       "      <th>3</th>\n",
       "      <td>Casas</td>\n",
       "      <td>Venda - casa em rua pública</td>\n",
       "      <td>0</td>\n",
       "      <td>0</td>\n",
       "      <td>0</td>\n",
       "      <td>Não informado</td>\n",
       "      <td>Não informado</td>\n",
       "      <td>69930000</td>\n",
       "      <td>Xapuri</td>\n",
       "      <td>AC</td>\n",
       "      <td>Não informado</td>\n",
       "      <td>45000.0</td>\n",
       "      <td>https://ac.olx.com.br/acre/imoveis/casa-reside...</td>\n",
       "      <td>Venda</td>\n",
       "    </tr>\n",
       "    <tr>\n",
       "      <th>4</th>\n",
       "      <td>Casas</td>\n",
       "      <td>Venda - casa em rua pública</td>\n",
       "      <td>3</td>\n",
       "      <td>2</td>\n",
       "      <td>3</td>\n",
       "      <td>Varanda</td>\n",
       "      <td>Não informado</td>\n",
       "      <td>69919760</td>\n",
       "      <td>Rio Branco</td>\n",
       "      <td>AC</td>\n",
       "      <td>Conjunto Tucumã</td>\n",
       "      <td>270000.0</td>\n",
       "      <td>https://ac.olx.com.br/acre/imoveis/vende-se-ca...</td>\n",
       "      <td>Venda</td>\n",
       "    </tr>\n",
       "    <tr>\n",
       "      <th>5</th>\n",
       "      <td>Apartamentos</td>\n",
       "      <td>Venda - apartamento padrão</td>\n",
       "      <td>3</td>\n",
       "      <td>2</td>\n",
       "      <td>2</td>\n",
       "      <td>Área de serviço, Churrasqueira, Varanda</td>\n",
       "      <td>Condomínio fechado, Elevador, Segurança 24h, P...</td>\n",
       "      <td>69900000</td>\n",
       "      <td>Rio Branco</td>\n",
       "      <td>AC</td>\n",
       "      <td>Não informado</td>\n",
       "      <td>350864.0</td>\n",
       "      <td>https://ac.olx.com.br/acre/imoveis/parkia-boul...</td>\n",
       "      <td>Venda</td>\n",
       "    </tr>\n",
       "  </tbody>\n",
       "</table>\n",
       "</div>"
      ],
      "text/plain": [
       "      categoria                         tipo  quartos  banheiros  \\\n",
       "0         Casas  Venda - casa em rua pública        3          1   \n",
       "1         Casas  Venda - casa em rua pública        3          1   \n",
       "3         Casas  Venda - casa em rua pública        0          0   \n",
       "4         Casas  Venda - casa em rua pública        3          2   \n",
       "5  Apartamentos   Venda - apartamento padrão        3          2   \n",
       "\n",
       "   vagas_garagem                                    detalhes_imovel  \\\n",
       "0              2                                      Não informado   \n",
       "1              2  Área de serviço, Armários na cozinha, Armários...   \n",
       "3              0                                      Não informado   \n",
       "4              3                                            Varanda   \n",
       "5              2            Área de serviço, Churrasqueira, Varanda   \n",
       "\n",
       "                                 detalhes_condominio       cep      cidade  \\\n",
       "0                                      Não informado  69911349  Rio Branco   \n",
       "1                     Área murada, Portão eletrônico  69919628  Rio Branco   \n",
       "3                                      Não informado  69930000      Xapuri   \n",
       "4                                      Não informado  69919760  Rio Branco   \n",
       "5  Condomínio fechado, Elevador, Segurança 24h, P...  69900000  Rio Branco   \n",
       "\n",
       "  estado               bairro     preco  \\\n",
       "0     AC  Conjunto Bela Vista  194000.0   \n",
       "1     AC     Jardim Primavera  120000.0   \n",
       "3     AC        Não informado   45000.0   \n",
       "4     AC      Conjunto Tucumã  270000.0   \n",
       "5     AC        Não informado  350864.0   \n",
       "\n",
       "                                                 url operacao  \n",
       "0  https://ac.olx.com.br/acre/imoveis/casa-a-vend...   Venda   \n",
       "1  https://ac.olx.com.br/acre/imoveis/casa-mista-...   Venda   \n",
       "3  https://ac.olx.com.br/acre/imoveis/casa-reside...   Venda   \n",
       "4  https://ac.olx.com.br/acre/imoveis/vende-se-ca...   Venda   \n",
       "5  https://ac.olx.com.br/acre/imoveis/parkia-boul...   Venda   "
      ]
     },
     "execution_count": 43,
     "metadata": {},
     "output_type": "execute_result"
    }
   ],
   "source": [
    "df_tipo_informado.head()"
   ]
  },
  {
   "cell_type": "code",
   "execution_count": 44,
   "metadata": {},
   "outputs": [
    {
     "name": "stderr",
     "output_type": "stream",
     "text": [
      "C:\\Users\\Admin\\anaconda3\\lib\\site-packages\\ipykernel_launcher.py:1: SettingWithCopyWarning: \n",
      "A value is trying to be set on a copy of a slice from a DataFrame.\n",
      "Try using .loc[row_indexer,col_indexer] = value instead\n",
      "\n",
      "See the caveats in the documentation: https://pandas.pydata.org/pandas-docs/stable/user_guide/indexing.html#returning-a-view-versus-a-copy\n",
      "  \"\"\"Entry point for launching an IPython kernel.\n"
     ]
    },
    {
     "data": {
      "text/html": [
       "<div>\n",
       "<style scoped>\n",
       "    .dataframe tbody tr th:only-of-type {\n",
       "        vertical-align: middle;\n",
       "    }\n",
       "\n",
       "    .dataframe tbody tr th {\n",
       "        vertical-align: top;\n",
       "    }\n",
       "\n",
       "    .dataframe thead th {\n",
       "        text-align: right;\n",
       "    }\n",
       "</style>\n",
       "<table border=\"1\" class=\"dataframe\">\n",
       "  <thead>\n",
       "    <tr style=\"text-align: right;\">\n",
       "      <th></th>\n",
       "      <th>categoria</th>\n",
       "      <th>tipo</th>\n",
       "      <th>quartos</th>\n",
       "      <th>banheiros</th>\n",
       "      <th>vagas_garagem</th>\n",
       "      <th>detalhes_imovel</th>\n",
       "      <th>detalhes_condominio</th>\n",
       "      <th>cep</th>\n",
       "      <th>cidade</th>\n",
       "      <th>estado</th>\n",
       "      <th>bairro</th>\n",
       "      <th>preco</th>\n",
       "      <th>url</th>\n",
       "      <th>operacao</th>\n",
       "    </tr>\n",
       "  </thead>\n",
       "  <tbody>\n",
       "    <tr>\n",
       "      <th>58</th>\n",
       "      <td>Aluguel de quartos</td>\n",
       "      <td>Não informado</td>\n",
       "      <td>0</td>\n",
       "      <td>0</td>\n",
       "      <td>0</td>\n",
       "      <td>Não informado</td>\n",
       "      <td>Não informado</td>\n",
       "      <td>69900000</td>\n",
       "      <td>Rio Branco</td>\n",
       "      <td>AC</td>\n",
       "      <td>Não informado</td>\n",
       "      <td>200.0</td>\n",
       "      <td>https://ac.olx.com.br/acre/imoveis/aluga-se-ap...</td>\n",
       "      <td>Não informado</td>\n",
       "    </tr>\n",
       "    <tr>\n",
       "      <th>68</th>\n",
       "      <td>Aluguel de quartos</td>\n",
       "      <td>Não informado</td>\n",
       "      <td>0</td>\n",
       "      <td>0</td>\n",
       "      <td>0</td>\n",
       "      <td>Não informado</td>\n",
       "      <td>Não informado</td>\n",
       "      <td>69918760</td>\n",
       "      <td>Rio Branco</td>\n",
       "      <td>AC</td>\n",
       "      <td>Conquista</td>\n",
       "      <td>600.0</td>\n",
       "      <td>https://ac.olx.com.br/acre/imoveis/apartamento...</td>\n",
       "      <td>Não informado</td>\n",
       "    </tr>\n",
       "    <tr>\n",
       "      <th>71</th>\n",
       "      <td>Aluguel de quartos</td>\n",
       "      <td>Não informado</td>\n",
       "      <td>0</td>\n",
       "      <td>0</td>\n",
       "      <td>0</td>\n",
       "      <td>Não informado</td>\n",
       "      <td>Não informado</td>\n",
       "      <td>69980000</td>\n",
       "      <td>Cruzeiro do Sul</td>\n",
       "      <td>AC</td>\n",
       "      <td>Não informado</td>\n",
       "      <td>600.0</td>\n",
       "      <td>https://ac.olx.com.br/acre/imoveis/alugo-apart...</td>\n",
       "      <td>Não informado</td>\n",
       "    </tr>\n",
       "    <tr>\n",
       "      <th>119</th>\n",
       "      <td>Aluguel de quartos</td>\n",
       "      <td>Não informado</td>\n",
       "      <td>0</td>\n",
       "      <td>0</td>\n",
       "      <td>0</td>\n",
       "      <td>Não informado</td>\n",
       "      <td>Não informado</td>\n",
       "      <td>69919182</td>\n",
       "      <td>Rio Branco</td>\n",
       "      <td>AC</td>\n",
       "      <td>Residencial Petrópolis</td>\n",
       "      <td>750.0</td>\n",
       "      <td>https://ac.olx.com.br/acre/imoveis/alugo-uma-k...</td>\n",
       "      <td>Não informado</td>\n",
       "    </tr>\n",
       "    <tr>\n",
       "      <th>126</th>\n",
       "      <td>Aluguel de quartos</td>\n",
       "      <td>Não informado</td>\n",
       "      <td>0</td>\n",
       "      <td>0</td>\n",
       "      <td>0</td>\n",
       "      <td>Não informado</td>\n",
       "      <td>Não informado</td>\n",
       "      <td>69918412</td>\n",
       "      <td>Rio Branco</td>\n",
       "      <td>AC</td>\n",
       "      <td>Conjunto Manoel Julião</td>\n",
       "      <td>400.0</td>\n",
       "      <td>https://ac.olx.com.br/acre/imoveis/aluga-se-ap...</td>\n",
       "      <td>Não informado</td>\n",
       "    </tr>\n",
       "  </tbody>\n",
       "</table>\n",
       "</div>"
      ],
      "text/plain": [
       "              categoria           tipo  quartos  banheiros  vagas_garagem  \\\n",
       "58   Aluguel de quartos  Não informado        0          0              0   \n",
       "68   Aluguel de quartos  Não informado        0          0              0   \n",
       "71   Aluguel de quartos  Não informado        0          0              0   \n",
       "119  Aluguel de quartos  Não informado        0          0              0   \n",
       "126  Aluguel de quartos  Não informado        0          0              0   \n",
       "\n",
       "    detalhes_imovel detalhes_condominio       cep           cidade estado  \\\n",
       "58    Não informado       Não informado  69900000       Rio Branco     AC   \n",
       "68    Não informado       Não informado  69918760       Rio Branco     AC   \n",
       "71    Não informado       Não informado  69980000  Cruzeiro do Sul     AC   \n",
       "119   Não informado       Não informado  69919182       Rio Branco     AC   \n",
       "126   Não informado       Não informado  69918412       Rio Branco     AC   \n",
       "\n",
       "                     bairro  preco  \\\n",
       "58            Não informado  200.0   \n",
       "68                Conquista  600.0   \n",
       "71            Não informado  600.0   \n",
       "119  Residencial Petrópolis  750.0   \n",
       "126  Conjunto Manoel Julião  400.0   \n",
       "\n",
       "                                                   url       operacao  \n",
       "58   https://ac.olx.com.br/acre/imoveis/aluga-se-ap...  Não informado  \n",
       "68   https://ac.olx.com.br/acre/imoveis/apartamento...  Não informado  \n",
       "71   https://ac.olx.com.br/acre/imoveis/alugo-apart...  Não informado  \n",
       "119  https://ac.olx.com.br/acre/imoveis/alugo-uma-k...  Não informado  \n",
       "126  https://ac.olx.com.br/acre/imoveis/aluga-se-ap...  Não informado  "
      ]
     },
     "execution_count": 44,
     "metadata": {},
     "output_type": "execute_result"
    }
   ],
   "source": [
    "df_tipo_nao_informado['operacao'] = 'Não informado'\n",
    "df_tipo_nao_informado.head()"
   ]
  },
  {
   "cell_type": "code",
   "execution_count": 45,
   "metadata": {},
   "outputs": [
    {
     "data": {
      "text/html": [
       "<div>\n",
       "<style scoped>\n",
       "    .dataframe tbody tr th:only-of-type {\n",
       "        vertical-align: middle;\n",
       "    }\n",
       "\n",
       "    .dataframe tbody tr th {\n",
       "        vertical-align: top;\n",
       "    }\n",
       "\n",
       "    .dataframe thead th {\n",
       "        text-align: right;\n",
       "    }\n",
       "</style>\n",
       "<table border=\"1\" class=\"dataframe\">\n",
       "  <thead>\n",
       "    <tr style=\"text-align: right;\">\n",
       "      <th></th>\n",
       "      <th>categoria</th>\n",
       "      <th>tipo</th>\n",
       "      <th>quartos</th>\n",
       "      <th>banheiros</th>\n",
       "      <th>vagas_garagem</th>\n",
       "      <th>detalhes_imovel</th>\n",
       "      <th>detalhes_condominio</th>\n",
       "      <th>cep</th>\n",
       "      <th>cidade</th>\n",
       "      <th>estado</th>\n",
       "      <th>bairro</th>\n",
       "      <th>preco</th>\n",
       "      <th>url</th>\n",
       "      <th>operacao</th>\n",
       "    </tr>\n",
       "  </thead>\n",
       "  <tbody>\n",
       "    <tr>\n",
       "      <th>0</th>\n",
       "      <td>Casas</td>\n",
       "      <td>Venda - casa em rua pública</td>\n",
       "      <td>3</td>\n",
       "      <td>1</td>\n",
       "      <td>2</td>\n",
       "      <td>Não informado</td>\n",
       "      <td>Não informado</td>\n",
       "      <td>69911349</td>\n",
       "      <td>Rio Branco</td>\n",
       "      <td>AC</td>\n",
       "      <td>Conjunto Bela Vista</td>\n",
       "      <td>194000.0</td>\n",
       "      <td>https://ac.olx.com.br/acre/imoveis/casa-a-vend...</td>\n",
       "      <td>Venda</td>\n",
       "    </tr>\n",
       "    <tr>\n",
       "      <th>1</th>\n",
       "      <td>Casas</td>\n",
       "      <td>Venda - casa em rua pública</td>\n",
       "      <td>3</td>\n",
       "      <td>1</td>\n",
       "      <td>2</td>\n",
       "      <td>Área de serviço, Armários na cozinha, Armários...</td>\n",
       "      <td>Área murada, Portão eletrônico</td>\n",
       "      <td>69919628</td>\n",
       "      <td>Rio Branco</td>\n",
       "      <td>AC</td>\n",
       "      <td>Jardim Primavera</td>\n",
       "      <td>120000.0</td>\n",
       "      <td>https://ac.olx.com.br/acre/imoveis/casa-mista-...</td>\n",
       "      <td>Venda</td>\n",
       "    </tr>\n",
       "    <tr>\n",
       "      <th>3</th>\n",
       "      <td>Casas</td>\n",
       "      <td>Venda - casa em rua pública</td>\n",
       "      <td>0</td>\n",
       "      <td>0</td>\n",
       "      <td>0</td>\n",
       "      <td>Não informado</td>\n",
       "      <td>Não informado</td>\n",
       "      <td>69930000</td>\n",
       "      <td>Xapuri</td>\n",
       "      <td>AC</td>\n",
       "      <td>Não informado</td>\n",
       "      <td>45000.0</td>\n",
       "      <td>https://ac.olx.com.br/acre/imoveis/casa-reside...</td>\n",
       "      <td>Venda</td>\n",
       "    </tr>\n",
       "    <tr>\n",
       "      <th>4</th>\n",
       "      <td>Casas</td>\n",
       "      <td>Venda - casa em rua pública</td>\n",
       "      <td>3</td>\n",
       "      <td>2</td>\n",
       "      <td>3</td>\n",
       "      <td>Varanda</td>\n",
       "      <td>Não informado</td>\n",
       "      <td>69919760</td>\n",
       "      <td>Rio Branco</td>\n",
       "      <td>AC</td>\n",
       "      <td>Conjunto Tucumã</td>\n",
       "      <td>270000.0</td>\n",
       "      <td>https://ac.olx.com.br/acre/imoveis/vende-se-ca...</td>\n",
       "      <td>Venda</td>\n",
       "    </tr>\n",
       "    <tr>\n",
       "      <th>5</th>\n",
       "      <td>Apartamentos</td>\n",
       "      <td>Venda - apartamento padrão</td>\n",
       "      <td>3</td>\n",
       "      <td>2</td>\n",
       "      <td>2</td>\n",
       "      <td>Área de serviço, Churrasqueira, Varanda</td>\n",
       "      <td>Condomínio fechado, Elevador, Segurança 24h, P...</td>\n",
       "      <td>69900000</td>\n",
       "      <td>Rio Branco</td>\n",
       "      <td>AC</td>\n",
       "      <td>Não informado</td>\n",
       "      <td>350864.0</td>\n",
       "      <td>https://ac.olx.com.br/acre/imoveis/parkia-boul...</td>\n",
       "      <td>Venda</td>\n",
       "    </tr>\n",
       "  </tbody>\n",
       "</table>\n",
       "</div>"
      ],
      "text/plain": [
       "      categoria                         tipo  quartos  banheiros  \\\n",
       "0         Casas  Venda - casa em rua pública        3          1   \n",
       "1         Casas  Venda - casa em rua pública        3          1   \n",
       "3         Casas  Venda - casa em rua pública        0          0   \n",
       "4         Casas  Venda - casa em rua pública        3          2   \n",
       "5  Apartamentos   Venda - apartamento padrão        3          2   \n",
       "\n",
       "   vagas_garagem                                    detalhes_imovel  \\\n",
       "0              2                                      Não informado   \n",
       "1              2  Área de serviço, Armários na cozinha, Armários...   \n",
       "3              0                                      Não informado   \n",
       "4              3                                            Varanda   \n",
       "5              2            Área de serviço, Churrasqueira, Varanda   \n",
       "\n",
       "                                 detalhes_condominio       cep      cidade  \\\n",
       "0                                      Não informado  69911349  Rio Branco   \n",
       "1                     Área murada, Portão eletrônico  69919628  Rio Branco   \n",
       "3                                      Não informado  69930000      Xapuri   \n",
       "4                                      Não informado  69919760  Rio Branco   \n",
       "5  Condomínio fechado, Elevador, Segurança 24h, P...  69900000  Rio Branco   \n",
       "\n",
       "  estado               bairro     preco  \\\n",
       "0     AC  Conjunto Bela Vista  194000.0   \n",
       "1     AC     Jardim Primavera  120000.0   \n",
       "3     AC        Não informado   45000.0   \n",
       "4     AC      Conjunto Tucumã  270000.0   \n",
       "5     AC        Não informado  350864.0   \n",
       "\n",
       "                                                 url operacao  \n",
       "0  https://ac.olx.com.br/acre/imoveis/casa-a-vend...   Venda   \n",
       "1  https://ac.olx.com.br/acre/imoveis/casa-mista-...   Venda   \n",
       "3  https://ac.olx.com.br/acre/imoveis/casa-reside...   Venda   \n",
       "4  https://ac.olx.com.br/acre/imoveis/vende-se-ca...   Venda   \n",
       "5  https://ac.olx.com.br/acre/imoveis/parkia-boul...   Venda   "
      ]
     },
     "execution_count": 45,
     "metadata": {},
     "output_type": "execute_result"
    }
   ],
   "source": [
    "novo_df = pd.concat([df_tipo_informado, df_tipo_nao_informado])\n",
    "novo_df.head()"
   ]
  },
  {
   "cell_type": "markdown",
   "metadata": {},
   "source": [
    "#### Verificando a distribuição dos preços da base "
   ]
  },
  {
   "cell_type": "code",
   "execution_count": 46,
   "metadata": {},
   "outputs": [
    {
     "data": {
      "text/plain": [
       "<matplotlib.axes._subplots.AxesSubplot at 0x17d90912d88>"
      ]
     },
     "execution_count": 46,
     "metadata": {},
     "output_type": "execute_result"
    },
    {
     "data": {
      "image/png": "[encoded data removed]",
      "text/plain": [
       "<Figure size 432x288 with 1 Axes>"
      ]
     },
     "metadata": {
      "needs_background": "light"
     },
     "output_type": "display_data"
    }
   ],
   "source": [
    "sns.boxplot(x=novo_df['preco'])"
   ]
  },
  {
   "cell_type": "code",
   "execution_count": 52,
   "metadata": {},
   "outputs": [
    {
     "data": {
      "text/plain": [
       "1000.0       3327\n",
       "700.0        3253\n",
       "1200.0       3123\n",
       "600.0        2989\n",
       "800.0        2897\n",
       "             ... \n",
       "850004.0        1\n",
       "1878975.0       1\n",
       "469733.0        1\n",
       "469722.0        1\n",
       "5185356.0       1\n",
       "Name: preco, Length: 16693, dtype: int64"
      ]
     },
     "execution_count": 52,
     "metadata": {},
     "output_type": "execute_result"
    }
   ],
   "source": [
    "value_counts_preco = novo_df['preco'].value_counts()\n",
    "value_counts_preco"
   ]
  },
  {
   "cell_type": "code",
   "execution_count": 54,
   "metadata": {},
   "outputs": [
    {
     "data": {
      "text/html": [
       "<div>\n",
       "<style scoped>\n",
       "    .dataframe tbody tr th:only-of-type {\n",
       "        vertical-align: middle;\n",
       "    }\n",
       "\n",
       "    .dataframe tbody tr th {\n",
       "        vertical-align: top;\n",
       "    }\n",
       "\n",
       "    .dataframe thead th {\n",
       "        text-align: right;\n",
       "    }\n",
       "</style>\n",
       "<table border=\"1\" class=\"dataframe\">\n",
       "  <thead>\n",
       "    <tr style=\"text-align: right;\">\n",
       "      <th></th>\n",
       "      <th>categoria</th>\n",
       "      <th>tipo</th>\n",
       "      <th>quartos</th>\n",
       "      <th>banheiros</th>\n",
       "      <th>vagas_garagem</th>\n",
       "      <th>detalhes_imovel</th>\n",
       "      <th>detalhes_condominio</th>\n",
       "      <th>cep</th>\n",
       "      <th>cidade</th>\n",
       "      <th>estado</th>\n",
       "      <th>bairro</th>\n",
       "      <th>preco</th>\n",
       "      <th>url</th>\n",
       "      <th>operacao</th>\n",
       "    </tr>\n",
       "  </thead>\n",
       "  <tbody>\n",
       "    <tr>\n",
       "      <th>5</th>\n",
       "      <td>Apartamentos</td>\n",
       "      <td>Venda - apartamento padrão</td>\n",
       "      <td>3</td>\n",
       "      <td>2</td>\n",
       "      <td>2</td>\n",
       "      <td>Área de serviço, Churrasqueira, Varanda</td>\n",
       "      <td>Condomínio fechado, Elevador, Segurança 24h, P...</td>\n",
       "      <td>69900000</td>\n",
       "      <td>Rio Branco</td>\n",
       "      <td>AC</td>\n",
       "      <td>Não informado</td>\n",
       "      <td>350864.0</td>\n",
       "      <td>https://ac.olx.com.br/acre/imoveis/parkia-boul...</td>\n",
       "      <td>Venda</td>\n",
       "    </tr>\n",
       "    <tr>\n",
       "      <th>7</th>\n",
       "      <td>Casas</td>\n",
       "      <td>Venda - casa em condominio fechado</td>\n",
       "      <td>4</td>\n",
       "      <td>3</td>\n",
       "      <td>3</td>\n",
       "      <td>Área de serviço, Armários na cozinha, Armários...</td>\n",
       "      <td>Condomínio fechado, Segurança 24h, Área murada...</td>\n",
       "      <td>69915324</td>\n",
       "      <td>Rio Branco</td>\n",
       "      <td>AC</td>\n",
       "      <td>Distrito Ind</td>\n",
       "      <td>416999.0</td>\n",
       "      <td>https://ac.olx.com.br/acre/imoveis/linda-casa-...</td>\n",
       "      <td>Venda</td>\n",
       "    </tr>\n",
       "    <tr>\n",
       "      <th>1088</th>\n",
       "      <td>Casas</td>\n",
       "      <td>Venda - casa em rua pública</td>\n",
       "      <td>2</td>\n",
       "      <td>1</td>\n",
       "      <td>1</td>\n",
       "      <td>Área de serviço</td>\n",
       "      <td>Não informado</td>\n",
       "      <td>69908746</td>\n",
       "      <td>Rio Branco</td>\n",
       "      <td>AC</td>\n",
       "      <td>Loteamento Santa Helena</td>\n",
       "      <td>98800.0</td>\n",
       "      <td>https://ac.olx.com.br/acre/imoveis/casa-no-lot...</td>\n",
       "      <td>Venda</td>\n",
       "    </tr>\n",
       "    <tr>\n",
       "      <th>1256</th>\n",
       "      <td>Casas</td>\n",
       "      <td>Venda - casa em rua pública</td>\n",
       "      <td>2</td>\n",
       "      <td>1</td>\n",
       "      <td>1</td>\n",
       "      <td>Varanda</td>\n",
       "      <td>Não informado</td>\n",
       "      <td>69940000</td>\n",
       "      <td>Sena Madureira</td>\n",
       "      <td>AC</td>\n",
       "      <td>Não informado</td>\n",
       "      <td>16300.0</td>\n",
       "      <td>https://ac.olx.com.br/acre/imoveis/oportunidad...</td>\n",
       "      <td>Venda</td>\n",
       "    </tr>\n",
       "    <tr>\n",
       "      <th>1313</th>\n",
       "      <td>Casas</td>\n",
       "      <td>Venda - casa em rua pública</td>\n",
       "      <td>2</td>\n",
       "      <td>1</td>\n",
       "      <td>1</td>\n",
       "      <td>Área de serviço, Churrasqueira, Varanda</td>\n",
       "      <td>Não informado</td>\n",
       "      <td>69905800</td>\n",
       "      <td>Rio Branco</td>\n",
       "      <td>AC</td>\n",
       "      <td>Areal</td>\n",
       "      <td>74000.0</td>\n",
       "      <td>https://ac.olx.com.br/acre/imoveis/vende-se-95...</td>\n",
       "      <td>Venda</td>\n",
       "    </tr>\n",
       "    <tr>\n",
       "      <th>...</th>\n",
       "      <td>...</td>\n",
       "      <td>...</td>\n",
       "      <td>...</td>\n",
       "      <td>...</td>\n",
       "      <td>...</td>\n",
       "      <td>...</td>\n",
       "      <td>...</td>\n",
       "      <td>...</td>\n",
       "      <td>...</td>\n",
       "      <td>...</td>\n",
       "      <td>...</td>\n",
       "      <td>...</td>\n",
       "      <td>...</td>\n",
       "      <td>...</td>\n",
       "    </tr>\n",
       "    <tr>\n",
       "      <th>168869</th>\n",
       "      <td>Aluguel de quartos</td>\n",
       "      <td>Não informado</td>\n",
       "      <td>0</td>\n",
       "      <td>0</td>\n",
       "      <td>0</td>\n",
       "      <td>Não informado</td>\n",
       "      <td>Não informado</td>\n",
       "      <td>69314112</td>\n",
       "      <td>Boa Vista</td>\n",
       "      <td>RR</td>\n",
       "      <td>Santa Tereza</td>\n",
       "      <td>237.0</td>\n",
       "      <td>https://rr.olx.com.br/roraima/imoveis/preciso-...</td>\n",
       "      <td>Não informado</td>\n",
       "    </tr>\n",
       "    <tr>\n",
       "      <th>170381</th>\n",
       "      <td>Aluguel de quartos</td>\n",
       "      <td>Não informado</td>\n",
       "      <td>0</td>\n",
       "      <td>0</td>\n",
       "      <td>0</td>\n",
       "      <td>Não informado</td>\n",
       "      <td>Não informado</td>\n",
       "      <td>69316578</td>\n",
       "      <td>Boa Vista</td>\n",
       "      <td>RR</td>\n",
       "      <td>Senador Hélio Campos</td>\n",
       "      <td>97.0</td>\n",
       "      <td>https://rr.olx.com.br/roraima/imoveis/curso-de...</td>\n",
       "      <td>Não informado</td>\n",
       "    </tr>\n",
       "    <tr>\n",
       "      <th>191858</th>\n",
       "      <td>Aluguel de quartos</td>\n",
       "      <td>Não informado</td>\n",
       "      <td>0</td>\n",
       "      <td>0</td>\n",
       "      <td>0</td>\n",
       "      <td>Não informado</td>\n",
       "      <td>Não informado</td>\n",
       "      <td>49100000</td>\n",
       "      <td>São Cristóvão</td>\n",
       "      <td>SE</td>\n",
       "      <td>Não informado</td>\n",
       "      <td>51975.0</td>\n",
       "      <td>https://se.olx.com.br/sergipe/imoveis/a-unica-...</td>\n",
       "      <td>Não informado</td>\n",
       "    </tr>\n",
       "    <tr>\n",
       "      <th>196790</th>\n",
       "      <td>Aluguel de quartos</td>\n",
       "      <td>Não informado</td>\n",
       "      <td>0</td>\n",
       "      <td>0</td>\n",
       "      <td>0</td>\n",
       "      <td>Não informado</td>\n",
       "      <td>Não informado</td>\n",
       "      <td>49027190</td>\n",
       "      <td>Aracaju</td>\n",
       "      <td>SE</td>\n",
       "      <td>Grageru</td>\n",
       "      <td>267.0</td>\n",
       "      <td>https://se.olx.com.br/sergipe/imoveis/quarto-p...</td>\n",
       "      <td>Não informado</td>\n",
       "    </tr>\n",
       "    <tr>\n",
       "      <th>201196</th>\n",
       "      <td>Aluguel de quartos</td>\n",
       "      <td>Não informado</td>\n",
       "      <td>0</td>\n",
       "      <td>0</td>\n",
       "      <td>0</td>\n",
       "      <td>Não informado</td>\n",
       "      <td>Não informado</td>\n",
       "      <td>5541140</td>\n",
       "      <td>São Paulo</td>\n",
       "      <td>SP</td>\n",
       "      <td>Jardim das Vertentes</td>\n",
       "      <td>897.0</td>\n",
       "      <td>https://sp.olx.com.br/sao-paulo-e-regiao/imove...</td>\n",
       "      <td>Não informado</td>\n",
       "    </tr>\n",
       "  </tbody>\n",
       "</table>\n",
       "<p>12101 rows × 14 columns</p>\n",
       "</div>"
      ],
      "text/plain": [
       "                 categoria                                tipo  quartos  \\\n",
       "5             Apartamentos          Venda - apartamento padrão        3   \n",
       "7                    Casas  Venda - casa em condominio fechado        4   \n",
       "1088                 Casas         Venda - casa em rua pública        2   \n",
       "1256                 Casas         Venda - casa em rua pública        2   \n",
       "1313                 Casas         Venda - casa em rua pública        2   \n",
       "...                    ...                                 ...      ...   \n",
       "168869  Aluguel de quartos                       Não informado        0   \n",
       "170381  Aluguel de quartos                       Não informado        0   \n",
       "191858  Aluguel de quartos                       Não informado        0   \n",
       "196790  Aluguel de quartos                       Não informado        0   \n",
       "201196  Aluguel de quartos                       Não informado        0   \n",
       "\n",
       "        banheiros  vagas_garagem  \\\n",
       "5               2              2   \n",
       "7               3              3   \n",
       "1088            1              1   \n",
       "1256            1              1   \n",
       "1313            1              1   \n",
       "...           ...            ...   \n",
       "168869          0              0   \n",
       "170381          0              0   \n",
       "191858          0              0   \n",
       "196790          0              0   \n",
       "201196          0              0   \n",
       "\n",
       "                                          detalhes_imovel  \\\n",
       "5                 Área de serviço, Churrasqueira, Varanda   \n",
       "7       Área de serviço, Armários na cozinha, Armários...   \n",
       "1088                                      Área de serviço   \n",
       "1256                                              Varanda   \n",
       "1313              Área de serviço, Churrasqueira, Varanda   \n",
       "...                                                   ...   \n",
       "168869                                      Não informado   \n",
       "170381                                      Não informado   \n",
       "191858                                      Não informado   \n",
       "196790                                      Não informado   \n",
       "201196                                      Não informado   \n",
       "\n",
       "                                      detalhes_condominio       cep  \\\n",
       "5       Condomínio fechado, Elevador, Segurança 24h, P...  69900000   \n",
       "7       Condomínio fechado, Segurança 24h, Área murada...  69915324   \n",
       "1088                                        Não informado  69908746   \n",
       "1256                                        Não informado  69940000   \n",
       "1313                                        Não informado  69905800   \n",
       "...                                                   ...       ...   \n",
       "168869                                      Não informado  69314112   \n",
       "170381                                      Não informado  69316578   \n",
       "191858                                      Não informado  49100000   \n",
       "196790                                      Não informado  49027190   \n",
       "201196                                      Não informado   5541140   \n",
       "\n",
       "                cidade estado                   bairro     preco  \\\n",
       "5           Rio Branco     AC            Não informado  350864.0   \n",
       "7           Rio Branco     AC             Distrito Ind  416999.0   \n",
       "1088        Rio Branco     AC  Loteamento Santa Helena   98800.0   \n",
       "1256    Sena Madureira     AC            Não informado   16300.0   \n",
       "1313        Rio Branco     AC                    Areal   74000.0   \n",
       "...                ...    ...                      ...       ...   \n",
       "168869       Boa Vista     RR             Santa Tereza     237.0   \n",
       "170381       Boa Vista     RR     Senador Hélio Campos      97.0   \n",
       "191858   São Cristóvão     SE            Não informado   51975.0   \n",
       "196790         Aracaju     SE                  Grageru     267.0   \n",
       "201196       São Paulo     SP     Jardim das Vertentes     897.0   \n",
       "\n",
       "                                                      url       operacao  \n",
       "5       https://ac.olx.com.br/acre/imoveis/parkia-boul...         Venda   \n",
       "7       https://ac.olx.com.br/acre/imoveis/linda-casa-...         Venda   \n",
       "1088    https://ac.olx.com.br/acre/imoveis/casa-no-lot...         Venda   \n",
       "1256    https://ac.olx.com.br/acre/imoveis/oportunidad...         Venda   \n",
       "1313    https://ac.olx.com.br/acre/imoveis/vende-se-95...         Venda   \n",
       "...                                                   ...            ...  \n",
       "168869  https://rr.olx.com.br/roraima/imoveis/preciso-...  Não informado  \n",
       "170381  https://rr.olx.com.br/roraima/imoveis/curso-de...  Não informado  \n",
       "191858  https://se.olx.com.br/sergipe/imoveis/a-unica-...  Não informado  \n",
       "196790  https://se.olx.com.br/sergipe/imoveis/quarto-p...  Não informado  \n",
       "201196  https://sp.olx.com.br/sao-paulo-e-regiao/imove...  Não informado  \n",
       "\n",
       "[12101 rows x 14 columns]"
      ]
     },
     "execution_count": 54,
     "metadata": {},
     "output_type": "execute_result"
    }
   ],
   "source": [
    "novo_df[novo_df.preco.isin(value_counts_preco[value_counts_preco == 1].index)]"
   ]
  },
  {
   "cell_type": "code",
   "execution_count": 56,
   "metadata": {},
   "outputs": [
    {
     "data": {
      "text/plain": [
       "396286.72184217937"
      ]
     },
     "execution_count": 56,
     "metadata": {},
     "output_type": "execute_result"
    }
   ],
   "source": [
    "novo_df['preco'].mean()"
   ]
  },
  {
   "cell_type": "code",
   "execution_count": 58,
   "metadata": {},
   "outputs": [
    {
     "data": {
      "text/plain": [
       "<matplotlib.axes._subplots.AxesSubplot at 0x17d90749148>"
      ]
     },
     "execution_count": 58,
     "metadata": {},
     "output_type": "execute_result"
    },
    {
     "data": {
      "image/png": "[encoded data removed]",
      "text/plain": [
       "<Figure size 432x288 with 1 Axes>"
      ]
     },
     "metadata": {
      "needs_background": "light"
     },
     "output_type": "display_data"
    }
   ],
   "source": [
    "sns.scatterplot(data=novo_df, x = 'quartos', y = 'preco')"
   ]
  },
  {
   "cell_type": "code",
   "execution_count": 59,
   "metadata": {},
   "outputs": [
    {
     "data": {
      "text/plain": [
       "<matplotlib.axes._subplots.AxesSubplot at 0x17d906eb7c8>"
      ]
     },
     "execution_count": 59,
     "metadata": {},
     "output_type": "execute_result"
    },
    {
     "data": {
      "image/png": "[encoded data removed]",
      "text/plain": [
       "<Figure size 432x288 with 1 Axes>"
      ]
     },
     "metadata": {
      "needs_background": "light"
     },
     "output_type": "display_data"
    }
   ],
   "source": [
    "sns.scatterplot(data=novo_df, x = 'banheiros', y = 'preco')"
   ]
  },
  {
   "cell_type": "code",
   "execution_count": 60,
   "metadata": {},
   "outputs": [
    {
     "data": {
      "text/plain": [
       "<matplotlib.axes._subplots.AxesSubplot at 0x17d9068f7c8>"
      ]
     },
     "execution_count": 60,
     "metadata": {},
     "output_type": "execute_result"
    },
    {
     "data": {
      "image/png": "[encoded data removed]",
      "text/plain": [
       "<Figure size 432x288 with 1 Axes>"
      ]
     },
     "metadata": {
      "needs_background": "light"
     },
     "output_type": "display_data"
    }
   ],
   "source": [
    "sns.scatterplot(data=novo_df, x = 'vagas_garagem', y = 'preco')"
   ]
  },
  {
   "cell_type": "code",
   "execution_count": 61,
   "metadata": {},
   "outputs": [
    {
     "data": {
      "text/plain": [
       "<matplotlib.axes._subplots.AxesSubplot at 0x17d90634a88>"
      ]
     },
     "execution_count": 61,
     "metadata": {},
     "output_type": "execute_result"
    },
    {
     "data": {
      "image/png": "[encoded data removed]",
      "text/plain": [
       "<Figure size 432x288 with 1 Axes>"
      ]
     },
     "metadata": {
      "needs_background": "light"
     },
     "output_type": "display_data"
    }
   ],
   "source": [
    "sns.scatterplot(data=novo_df, x = 'operacao', y = 'preco')"
   ]
  },
  {
   "cell_type": "code",
   "execution_count": 62,
   "metadata": {},
   "outputs": [
    {
     "data": {
      "text/plain": [
       "<matplotlib.axes._subplots.AxesSubplot at 0x17d905ef888>"
      ]
     },
     "execution_count": 62,
     "metadata": {},
     "output_type": "execute_result"
    },
    {
     "data": {
      "image/png": "[encoded data removed]",
      "text/plain": [
       "<Figure size 432x288 with 1 Axes>"
      ]
     },
     "metadata": {
      "needs_background": "light"
     },
     "output_type": "display_data"
    }
   ],
   "source": [
    "sns.scatterplot(data=novo_df, x = 'categoria', y = 'preco')"
   ]
  },
  {
   "cell_type": "markdown",
   "metadata": {},
   "source": [
    "#### Salvando uma base com os dados limpos "
   ]
  },
  {
   "cell_type": "code",
   "execution_count": 178,
   "metadata": {},
   "outputs": [],
   "source": [
    "FILE_OUT = Path('../data_extraction/imoveisolx/output/dados_limpos.csv')\n",
    "novo_df.to_csv(FILE_OUT, index=False, encoding='utf-8')"
   ]
  },
  {
   "cell_type": "markdown",
   "metadata": {},
   "source": [
    "#### Obtendo o número de anúncios para cada número de quartos "
   ]
  },
  {
   "cell_type": "code",
   "execution_count": null,
   "metadata": {},
   "outputs": [],
   "source": [
    "df.quartos.value_counts()"
   ]
  },
  {
   "cell_type": "code",
   "execution_count": null,
   "metadata": {},
   "outputs": [],
   "source": [
    "sns.catplot(x=\"quartos\", kind=\"count\", palette=\"Set2\", data=df)"
   ]
  },
  {
   "cell_type": "markdown",
   "metadata": {},
   "source": [
    "#### Obtendo o número de anúncios para cada número de banheiros "
   ]
  },
  {
   "cell_type": "code",
   "execution_count": null,
   "metadata": {},
   "outputs": [],
   "source": [
    "df.banheiros.value_counts()"
   ]
  },
  {
   "cell_type": "code",
   "execution_count": null,
   "metadata": {},
   "outputs": [],
   "source": [
    "sns.catplot(x=\"banheiros\", kind=\"count\", palette=\"Set2\", data=df)"
   ]
  },
  {
   "cell_type": "markdown",
   "metadata": {},
   "source": [
    "#### Obtendo o número de anúncios para cada número de vagas na garagem "
   ]
  },
  {
   "cell_type": "code",
   "execution_count": null,
   "metadata": {},
   "outputs": [],
   "source": [
    "df.vagas_garagem.value_counts()"
   ]
  },
  {
   "cell_type": "code",
   "execution_count": null,
   "metadata": {},
   "outputs": [],
   "source": [
    "sns.catplot(x=\"vagas_garagem\", kind=\"count\", palette=\"Set2\", data=df)"
   ]
  },
  {
   "cell_type": "code",
   "execution_count": null,
   "metadata": {},
   "outputs": [],
   "source": [
    "df.tipo.value_counts()"
   ]
  },
  {
   "cell_type": "code",
   "execution_count": null,
   "metadata": {},
   "outputs": [],
   "source": [
    "df.query(\"categoria == 'Aluguel - casas e apartamentos'\")"
   ]
  },
  {
   "cell_type": "code",
   "execution_count": 2,
   "metadata": {},
   "outputs": [
    {
     "data": {
      "text/html": [
       "<div>\n",
       "<style scoped>\n",
       "    .dataframe tbody tr th:only-of-type {\n",
       "        vertical-align: middle;\n",
       "    }\n",
       "\n",
       "    .dataframe tbody tr th {\n",
       "        vertical-align: top;\n",
       "    }\n",
       "\n",
       "    .dataframe thead th {\n",
       "        text-align: right;\n",
       "    }\n",
       "</style>\n",
       "<table border=\"1\" class=\"dataframe\">\n",
       "  <thead>\n",
       "    <tr style=\"text-align: right;\">\n",
       "      <th></th>\n",
       "      <th>categoria</th>\n",
       "      <th>tipo</th>\n",
       "      <th>quartos</th>\n",
       "      <th>banheiros</th>\n",
       "      <th>vagas_garagem</th>\n",
       "      <th>detalhes_imovel</th>\n",
       "      <th>detalhes_condominio</th>\n",
       "      <th>cep</th>\n",
       "      <th>cidade</th>\n",
       "      <th>estado</th>\n",
       "      <th>bairro</th>\n",
       "      <th>preco</th>\n",
       "      <th>url</th>\n",
       "      <th>operacao</th>\n",
       "    </tr>\n",
       "  </thead>\n",
       "  <tbody>\n",
       "    <tr>\n",
       "      <th>0</th>\n",
       "      <td>Casas</td>\n",
       "      <td>Venda - casa em rua pública</td>\n",
       "      <td>3</td>\n",
       "      <td>1</td>\n",
       "      <td>2</td>\n",
       "      <td>Não informado</td>\n",
       "      <td>Não informado</td>\n",
       "      <td>69911349</td>\n",
       "      <td>Rio Branco</td>\n",
       "      <td>AC</td>\n",
       "      <td>Conjunto Bela Vista</td>\n",
       "      <td>194000.0</td>\n",
       "      <td>https://ac.olx.com.br/acre/imoveis/casa-a-vend...</td>\n",
       "      <td>Venda</td>\n",
       "    </tr>\n",
       "    <tr>\n",
       "      <th>1</th>\n",
       "      <td>Casas</td>\n",
       "      <td>Venda - casa em rua pública</td>\n",
       "      <td>3</td>\n",
       "      <td>1</td>\n",
       "      <td>2</td>\n",
       "      <td>Área de serviço, Armários na cozinha, Armários...</td>\n",
       "      <td>Área murada, Portão eletrônico</td>\n",
       "      <td>69919628</td>\n",
       "      <td>Rio Branco</td>\n",
       "      <td>AC</td>\n",
       "      <td>Jardim Primavera</td>\n",
       "      <td>120000.0</td>\n",
       "      <td>https://ac.olx.com.br/acre/imoveis/casa-mista-...</td>\n",
       "      <td>Venda</td>\n",
       "    </tr>\n",
       "    <tr>\n",
       "      <th>2</th>\n",
       "      <td>Casas</td>\n",
       "      <td>Venda - casa em rua pública</td>\n",
       "      <td>0</td>\n",
       "      <td>0</td>\n",
       "      <td>0</td>\n",
       "      <td>Não informado</td>\n",
       "      <td>Não informado</td>\n",
       "      <td>69930000</td>\n",
       "      <td>Xapuri</td>\n",
       "      <td>AC</td>\n",
       "      <td>Não informado</td>\n",
       "      <td>45000.0</td>\n",
       "      <td>https://ac.olx.com.br/acre/imoveis/casa-reside...</td>\n",
       "      <td>Venda</td>\n",
       "    </tr>\n",
       "    <tr>\n",
       "      <th>3</th>\n",
       "      <td>Casas</td>\n",
       "      <td>Venda - casa em rua pública</td>\n",
       "      <td>3</td>\n",
       "      <td>2</td>\n",
       "      <td>3</td>\n",
       "      <td>Varanda</td>\n",
       "      <td>Não informado</td>\n",
       "      <td>69919760</td>\n",
       "      <td>Rio Branco</td>\n",
       "      <td>AC</td>\n",
       "      <td>Conjunto Tucumã</td>\n",
       "      <td>270000.0</td>\n",
       "      <td>https://ac.olx.com.br/acre/imoveis/vende-se-ca...</td>\n",
       "      <td>Venda</td>\n",
       "    </tr>\n",
       "    <tr>\n",
       "      <th>4</th>\n",
       "      <td>Apartamentos</td>\n",
       "      <td>Venda - apartamento padrão</td>\n",
       "      <td>3</td>\n",
       "      <td>2</td>\n",
       "      <td>2</td>\n",
       "      <td>Área de serviço, Churrasqueira, Varanda</td>\n",
       "      <td>Condomínio fechado, Elevador, Segurança 24h, P...</td>\n",
       "      <td>69900000</td>\n",
       "      <td>Rio Branco</td>\n",
       "      <td>AC</td>\n",
       "      <td>Não informado</td>\n",
       "      <td>350864.0</td>\n",
       "      <td>https://ac.olx.com.br/acre/imoveis/parkia-boul...</td>\n",
       "      <td>Venda</td>\n",
       "    </tr>\n",
       "  </tbody>\n",
       "</table>\n",
       "</div>"
      ],
      "text/plain": [
       "      categoria                         tipo  quartos  banheiros  \\\n",
       "0         Casas  Venda - casa em rua pública        3          1   \n",
       "1         Casas  Venda - casa em rua pública        3          1   \n",
       "2         Casas  Venda - casa em rua pública        0          0   \n",
       "3         Casas  Venda - casa em rua pública        3          2   \n",
       "4  Apartamentos   Venda - apartamento padrão        3          2   \n",
       "\n",
       "   vagas_garagem                                    detalhes_imovel  \\\n",
       "0              2                                      Não informado   \n",
       "1              2  Área de serviço, Armários na cozinha, Armários...   \n",
       "2              0                                      Não informado   \n",
       "3              3                                            Varanda   \n",
       "4              2            Área de serviço, Churrasqueira, Varanda   \n",
       "\n",
       "                                 detalhes_condominio       cep      cidade  \\\n",
       "0                                      Não informado  69911349  Rio Branco   \n",
       "1                     Área murada, Portão eletrônico  69919628  Rio Branco   \n",
       "2                                      Não informado  69930000      Xapuri   \n",
       "3                                      Não informado  69919760  Rio Branco   \n",
       "4  Condomínio fechado, Elevador, Segurança 24h, P...  69900000  Rio Branco   \n",
       "\n",
       "  estado               bairro     preco  \\\n",
       "0     AC  Conjunto Bela Vista  194000.0   \n",
       "1     AC     Jardim Primavera  120000.0   \n",
       "2     AC        Não informado   45000.0   \n",
       "3     AC      Conjunto Tucumã  270000.0   \n",
       "4     AC        Não informado  350864.0   \n",
       "\n",
       "                                                 url operacao  \n",
       "0  https://ac.olx.com.br/acre/imoveis/casa-a-vend...   Venda   \n",
       "1  https://ac.olx.com.br/acre/imoveis/casa-mista-...   Venda   \n",
       "2  https://ac.olx.com.br/acre/imoveis/casa-reside...   Venda   \n",
       "3  https://ac.olx.com.br/acre/imoveis/vende-se-ca...   Venda   \n",
       "4  https://ac.olx.com.br/acre/imoveis/parkia-boul...   Venda   "
      ]
     },
     "execution_count": 2,
     "metadata": {},
     "output_type": "execute_result"
    }
   ],
   "source": [
    "FILE_PATH = Path('../data_extraction/imoveisolx/output/dados_limpos_antigo.csv')\n",
    "df = pd.read_csv(FILE_PATH)\n",
    "df.head()"
   ]
  },
  {
   "cell_type": "code",
   "execution_count": 3,
   "metadata": {},
   "outputs": [],
   "source": [
    "df = df.reset_index()"
   ]
  },
  {
   "cell_type": "code",
   "execution_count": 5,
   "metadata": {},
   "outputs": [
    {
     "data": {
      "text/html": [
       "<div>\n",
       "<style scoped>\n",
       "    .dataframe tbody tr th:only-of-type {\n",
       "        vertical-align: middle;\n",
       "    }\n",
       "\n",
       "    .dataframe tbody tr th {\n",
       "        vertical-align: top;\n",
       "    }\n",
       "\n",
       "    .dataframe thead th {\n",
       "        text-align: right;\n",
       "    }\n",
       "</style>\n",
       "<table border=\"1\" class=\"dataframe\">\n",
       "  <thead>\n",
       "    <tr style=\"text-align: right;\">\n",
       "      <th></th>\n",
       "      <th>index</th>\n",
       "      <th>categoria</th>\n",
       "      <th>tipo</th>\n",
       "      <th>quartos</th>\n",
       "      <th>banheiros</th>\n",
       "      <th>vagas_garagem</th>\n",
       "      <th>detalhes_imovel</th>\n",
       "      <th>detalhes_condominio</th>\n",
       "      <th>cep</th>\n",
       "      <th>cidade</th>\n",
       "      <th>estado</th>\n",
       "      <th>bairro</th>\n",
       "      <th>preco</th>\n",
       "      <th>url</th>\n",
       "      <th>operacao</th>\n",
       "    </tr>\n",
       "  </thead>\n",
       "  <tbody>\n",
       "    <tr>\n",
       "      <th>0</th>\n",
       "      <td>0</td>\n",
       "      <td>Casas</td>\n",
       "      <td>Venda - casa em rua pública</td>\n",
       "      <td>3</td>\n",
       "      <td>1</td>\n",
       "      <td>2</td>\n",
       "      <td>Não informado</td>\n",
       "      <td>Não informado</td>\n",
       "      <td>69911349</td>\n",
       "      <td>Rio Branco</td>\n",
       "      <td>AC</td>\n",
       "      <td>Conjunto Bela Vista</td>\n",
       "      <td>194000.0</td>\n",
       "      <td>https://ac.olx.com.br/acre/imoveis/casa-a-vend...</td>\n",
       "      <td>Venda</td>\n",
       "    </tr>\n",
       "    <tr>\n",
       "      <th>1</th>\n",
       "      <td>1</td>\n",
       "      <td>Casas</td>\n",
       "      <td>Venda - casa em rua pública</td>\n",
       "      <td>3</td>\n",
       "      <td>1</td>\n",
       "      <td>2</td>\n",
       "      <td>Área de serviço, Armários na cozinha, Armários...</td>\n",
       "      <td>Área murada, Portão eletrônico</td>\n",
       "      <td>69919628</td>\n",
       "      <td>Rio Branco</td>\n",
       "      <td>AC</td>\n",
       "      <td>Jardim Primavera</td>\n",
       "      <td>120000.0</td>\n",
       "      <td>https://ac.olx.com.br/acre/imoveis/casa-mista-...</td>\n",
       "      <td>Venda</td>\n",
       "    </tr>\n",
       "    <tr>\n",
       "      <th>2</th>\n",
       "      <td>2</td>\n",
       "      <td>Casas</td>\n",
       "      <td>Venda - casa em rua pública</td>\n",
       "      <td>0</td>\n",
       "      <td>0</td>\n",
       "      <td>0</td>\n",
       "      <td>Não informado</td>\n",
       "      <td>Não informado</td>\n",
       "      <td>69930000</td>\n",
       "      <td>Xapuri</td>\n",
       "      <td>AC</td>\n",
       "      <td>Não informado</td>\n",
       "      <td>45000.0</td>\n",
       "      <td>https://ac.olx.com.br/acre/imoveis/casa-reside...</td>\n",
       "      <td>Venda</td>\n",
       "    </tr>\n",
       "    <tr>\n",
       "      <th>3</th>\n",
       "      <td>3</td>\n",
       "      <td>Casas</td>\n",
       "      <td>Venda - casa em rua pública</td>\n",
       "      <td>3</td>\n",
       "      <td>2</td>\n",
       "      <td>3</td>\n",
       "      <td>Varanda</td>\n",
       "      <td>Não informado</td>\n",
       "      <td>69919760</td>\n",
       "      <td>Rio Branco</td>\n",
       "      <td>AC</td>\n",
       "      <td>Conjunto Tucumã</td>\n",
       "      <td>270000.0</td>\n",
       "      <td>https://ac.olx.com.br/acre/imoveis/vende-se-ca...</td>\n",
       "      <td>Venda</td>\n",
       "    </tr>\n",
       "    <tr>\n",
       "      <th>4</th>\n",
       "      <td>4</td>\n",
       "      <td>Apartamentos</td>\n",
       "      <td>Venda - apartamento padrão</td>\n",
       "      <td>3</td>\n",
       "      <td>2</td>\n",
       "      <td>2</td>\n",
       "      <td>Área de serviço, Churrasqueira, Varanda</td>\n",
       "      <td>Condomínio fechado, Elevador, Segurança 24h, P...</td>\n",
       "      <td>69900000</td>\n",
       "      <td>Rio Branco</td>\n",
       "      <td>AC</td>\n",
       "      <td>Não informado</td>\n",
       "      <td>350864.0</td>\n",
       "      <td>https://ac.olx.com.br/acre/imoveis/parkia-boul...</td>\n",
       "      <td>Venda</td>\n",
       "    </tr>\n",
       "  </tbody>\n",
       "</table>\n",
       "</div>"
      ],
      "text/plain": [
       "   index     categoria                         tipo  quartos  banheiros  \\\n",
       "0      0         Casas  Venda - casa em rua pública        3          1   \n",
       "1      1         Casas  Venda - casa em rua pública        3          1   \n",
       "2      2         Casas  Venda - casa em rua pública        0          0   \n",
       "3      3         Casas  Venda - casa em rua pública        3          2   \n",
       "4      4  Apartamentos   Venda - apartamento padrão        3          2   \n",
       "\n",
       "   vagas_garagem                                    detalhes_imovel  \\\n",
       "0              2                                      Não informado   \n",
       "1              2  Área de serviço, Armários na cozinha, Armários...   \n",
       "2              0                                      Não informado   \n",
       "3              3                                            Varanda   \n",
       "4              2            Área de serviço, Churrasqueira, Varanda   \n",
       "\n",
       "                                 detalhes_condominio       cep      cidade  \\\n",
       "0                                      Não informado  69911349  Rio Branco   \n",
       "1                     Área murada, Portão eletrônico  69919628  Rio Branco   \n",
       "2                                      Não informado  69930000      Xapuri   \n",
       "3                                      Não informado  69919760  Rio Branco   \n",
       "4  Condomínio fechado, Elevador, Segurança 24h, P...  69900000  Rio Branco   \n",
       "\n",
       "  estado               bairro     preco  \\\n",
       "0     AC  Conjunto Bela Vista  194000.0   \n",
       "1     AC     Jardim Primavera  120000.0   \n",
       "2     AC        Não informado   45000.0   \n",
       "3     AC      Conjunto Tucumã  270000.0   \n",
       "4     AC        Não informado  350864.0   \n",
       "\n",
       "                                                 url operacao  \n",
       "0  https://ac.olx.com.br/acre/imoveis/casa-a-vend...   Venda   \n",
       "1  https://ac.olx.com.br/acre/imoveis/casa-mista-...   Venda   \n",
       "2  https://ac.olx.com.br/acre/imoveis/casa-reside...   Venda   \n",
       "3  https://ac.olx.com.br/acre/imoveis/vende-se-ca...   Venda   \n",
       "4  https://ac.olx.com.br/acre/imoveis/parkia-boul...   Venda   "
      ]
     },
     "execution_count": 5,
     "metadata": {},
     "output_type": "execute_result"
    }
   ],
   "source": [
    "df.head()"
   ]
  },
  {
   "cell_type": "code",
   "execution_count": 6,
   "metadata": {},
   "outputs": [
    {
     "data": {
      "text/html": [
       "<div>\n",
       "<style scoped>\n",
       "    .dataframe tbody tr th:only-of-type {\n",
       "        vertical-align: middle;\n",
       "    }\n",
       "\n",
       "    .dataframe tbody tr th {\n",
       "        vertical-align: top;\n",
       "    }\n",
       "\n",
       "    .dataframe thead th {\n",
       "        text-align: right;\n",
       "    }\n",
       "</style>\n",
       "<table border=\"1\" class=\"dataframe\">\n",
       "  <thead>\n",
       "    <tr style=\"text-align: right;\">\n",
       "      <th></th>\n",
       "      <th>id</th>\n",
       "      <th>categoria</th>\n",
       "      <th>tipo</th>\n",
       "      <th>quartos</th>\n",
       "      <th>banheiros</th>\n",
       "      <th>vagas_garagem</th>\n",
       "      <th>detalhes_imovel</th>\n",
       "      <th>detalhes_condominio</th>\n",
       "      <th>cep</th>\n",
       "      <th>cidade</th>\n",
       "      <th>estado</th>\n",
       "      <th>bairro</th>\n",
       "      <th>preco</th>\n",
       "      <th>url</th>\n",
       "      <th>operacao</th>\n",
       "    </tr>\n",
       "  </thead>\n",
       "  <tbody>\n",
       "    <tr>\n",
       "      <th>0</th>\n",
       "      <td>0</td>\n",
       "      <td>Casas</td>\n",
       "      <td>Venda - casa em rua pública</td>\n",
       "      <td>3</td>\n",
       "      <td>1</td>\n",
       "      <td>2</td>\n",
       "      <td>Não informado</td>\n",
       "      <td>Não informado</td>\n",
       "      <td>69911349</td>\n",
       "      <td>Rio Branco</td>\n",
       "      <td>AC</td>\n",
       "      <td>Conjunto Bela Vista</td>\n",
       "      <td>194000.0</td>\n",
       "      <td>https://ac.olx.com.br/acre/imoveis/casa-a-vend...</td>\n",
       "      <td>Venda</td>\n",
       "    </tr>\n",
       "    <tr>\n",
       "      <th>1</th>\n",
       "      <td>1</td>\n",
       "      <td>Casas</td>\n",
       "      <td>Venda - casa em rua pública</td>\n",
       "      <td>3</td>\n",
       "      <td>1</td>\n",
       "      <td>2</td>\n",
       "      <td>Área de serviço, Armários na cozinha, Armários...</td>\n",
       "      <td>Área murada, Portão eletrônico</td>\n",
       "      <td>69919628</td>\n",
       "      <td>Rio Branco</td>\n",
       "      <td>AC</td>\n",
       "      <td>Jardim Primavera</td>\n",
       "      <td>120000.0</td>\n",
       "      <td>https://ac.olx.com.br/acre/imoveis/casa-mista-...</td>\n",
       "      <td>Venda</td>\n",
       "    </tr>\n",
       "    <tr>\n",
       "      <th>2</th>\n",
       "      <td>2</td>\n",
       "      <td>Casas</td>\n",
       "      <td>Venda - casa em rua pública</td>\n",
       "      <td>0</td>\n",
       "      <td>0</td>\n",
       "      <td>0</td>\n",
       "      <td>Não informado</td>\n",
       "      <td>Não informado</td>\n",
       "      <td>69930000</td>\n",
       "      <td>Xapuri</td>\n",
       "      <td>AC</td>\n",
       "      <td>Não informado</td>\n",
       "      <td>45000.0</td>\n",
       "      <td>https://ac.olx.com.br/acre/imoveis/casa-reside...</td>\n",
       "      <td>Venda</td>\n",
       "    </tr>\n",
       "    <tr>\n",
       "      <th>3</th>\n",
       "      <td>3</td>\n",
       "      <td>Casas</td>\n",
       "      <td>Venda - casa em rua pública</td>\n",
       "      <td>3</td>\n",
       "      <td>2</td>\n",
       "      <td>3</td>\n",
       "      <td>Varanda</td>\n",
       "      <td>Não informado</td>\n",
       "      <td>69919760</td>\n",
       "      <td>Rio Branco</td>\n",
       "      <td>AC</td>\n",
       "      <td>Conjunto Tucumã</td>\n",
       "      <td>270000.0</td>\n",
       "      <td>https://ac.olx.com.br/acre/imoveis/vende-se-ca...</td>\n",
       "      <td>Venda</td>\n",
       "    </tr>\n",
       "    <tr>\n",
       "      <th>4</th>\n",
       "      <td>4</td>\n",
       "      <td>Apartamentos</td>\n",
       "      <td>Venda - apartamento padrão</td>\n",
       "      <td>3</td>\n",
       "      <td>2</td>\n",
       "      <td>2</td>\n",
       "      <td>Área de serviço, Churrasqueira, Varanda</td>\n",
       "      <td>Condomínio fechado, Elevador, Segurança 24h, P...</td>\n",
       "      <td>69900000</td>\n",
       "      <td>Rio Branco</td>\n",
       "      <td>AC</td>\n",
       "      <td>Não informado</td>\n",
       "      <td>350864.0</td>\n",
       "      <td>https://ac.olx.com.br/acre/imoveis/parkia-boul...</td>\n",
       "      <td>Venda</td>\n",
       "    </tr>\n",
       "  </tbody>\n",
       "</table>\n",
       "</div>"
      ],
      "text/plain": [
       "   id     categoria                         tipo  quartos  banheiros  \\\n",
       "0   0         Casas  Venda - casa em rua pública        3          1   \n",
       "1   1         Casas  Venda - casa em rua pública        3          1   \n",
       "2   2         Casas  Venda - casa em rua pública        0          0   \n",
       "3   3         Casas  Venda - casa em rua pública        3          2   \n",
       "4   4  Apartamentos   Venda - apartamento padrão        3          2   \n",
       "\n",
       "   vagas_garagem                                    detalhes_imovel  \\\n",
       "0              2                                      Não informado   \n",
       "1              2  Área de serviço, Armários na cozinha, Armários...   \n",
       "2              0                                      Não informado   \n",
       "3              3                                            Varanda   \n",
       "4              2            Área de serviço, Churrasqueira, Varanda   \n",
       "\n",
       "                                 detalhes_condominio       cep      cidade  \\\n",
       "0                                      Não informado  69911349  Rio Branco   \n",
       "1                     Área murada, Portão eletrônico  69919628  Rio Branco   \n",
       "2                                      Não informado  69930000      Xapuri   \n",
       "3                                      Não informado  69919760  Rio Branco   \n",
       "4  Condomínio fechado, Elevador, Segurança 24h, P...  69900000  Rio Branco   \n",
       "\n",
       "  estado               bairro     preco  \\\n",
       "0     AC  Conjunto Bela Vista  194000.0   \n",
       "1     AC     Jardim Primavera  120000.0   \n",
       "2     AC        Não informado   45000.0   \n",
       "3     AC      Conjunto Tucumã  270000.0   \n",
       "4     AC        Não informado  350864.0   \n",
       "\n",
       "                                                 url operacao  \n",
       "0  https://ac.olx.com.br/acre/imoveis/casa-a-vend...   Venda   \n",
       "1  https://ac.olx.com.br/acre/imoveis/casa-mista-...   Venda   \n",
       "2  https://ac.olx.com.br/acre/imoveis/casa-reside...   Venda   \n",
       "3  https://ac.olx.com.br/acre/imoveis/vende-se-ca...   Venda   \n",
       "4  https://ac.olx.com.br/acre/imoveis/parkia-boul...   Venda   "
      ]
     },
     "execution_count": 6,
     "metadata": {},
     "output_type": "execute_result"
    }
   ],
   "source": [
    "df = df.rename(columns={'index': 'id'})\n",
    "df.head()"
   ]
  },
  {
   "cell_type": "code",
   "execution_count": 7,
   "metadata": {},
   "outputs": [],
   "source": [
    "df['created_at'] = '2021-12-23 12:00:00'"
   ]
  },
  {
   "cell_type": "code",
   "execution_count": 8,
   "metadata": {},
   "outputs": [
    {
     "data": {
      "text/html": [
       "<div>\n",
       "<style scoped>\n",
       "    .dataframe tbody tr th:only-of-type {\n",
       "        vertical-align: middle;\n",
       "    }\n",
       "\n",
       "    .dataframe tbody tr th {\n",
       "        vertical-align: top;\n",
       "    }\n",
       "\n",
       "    .dataframe thead th {\n",
       "        text-align: right;\n",
       "    }\n",
       "</style>\n",
       "<table border=\"1\" class=\"dataframe\">\n",
       "  <thead>\n",
       "    <tr style=\"text-align: right;\">\n",
       "      <th></th>\n",
       "      <th>id</th>\n",
       "      <th>categoria</th>\n",
       "      <th>tipo</th>\n",
       "      <th>quartos</th>\n",
       "      <th>banheiros</th>\n",
       "      <th>vagas_garagem</th>\n",
       "      <th>detalhes_imovel</th>\n",
       "      <th>detalhes_condominio</th>\n",
       "      <th>cep</th>\n",
       "      <th>cidade</th>\n",
       "      <th>estado</th>\n",
       "      <th>bairro</th>\n",
       "      <th>preco</th>\n",
       "      <th>url</th>\n",
       "      <th>operacao</th>\n",
       "      <th>created_at</th>\n",
       "    </tr>\n",
       "  </thead>\n",
       "  <tbody>\n",
       "    <tr>\n",
       "      <th>0</th>\n",
       "      <td>0</td>\n",
       "      <td>Casas</td>\n",
       "      <td>Venda - casa em rua pública</td>\n",
       "      <td>3</td>\n",
       "      <td>1</td>\n",
       "      <td>2</td>\n",
       "      <td>Não informado</td>\n",
       "      <td>Não informado</td>\n",
       "      <td>69911349</td>\n",
       "      <td>Rio Branco</td>\n",
       "      <td>AC</td>\n",
       "      <td>Conjunto Bela Vista</td>\n",
       "      <td>194000.0</td>\n",
       "      <td>https://ac.olx.com.br/acre/imoveis/casa-a-vend...</td>\n",
       "      <td>Venda</td>\n",
       "      <td>2021-12-23 12:00:00</td>\n",
       "    </tr>\n",
       "    <tr>\n",
       "      <th>1</th>\n",
       "      <td>1</td>\n",
       "      <td>Casas</td>\n",
       "      <td>Venda - casa em rua pública</td>\n",
       "      <td>3</td>\n",
       "      <td>1</td>\n",
       "      <td>2</td>\n",
       "      <td>Área de serviço, Armários na cozinha, Armários...</td>\n",
       "      <td>Área murada, Portão eletrônico</td>\n",
       "      <td>69919628</td>\n",
       "      <td>Rio Branco</td>\n",
       "      <td>AC</td>\n",
       "      <td>Jardim Primavera</td>\n",
       "      <td>120000.0</td>\n",
       "      <td>https://ac.olx.com.br/acre/imoveis/casa-mista-...</td>\n",
       "      <td>Venda</td>\n",
       "      <td>2021-12-23 12:00:00</td>\n",
       "    </tr>\n",
       "    <tr>\n",
       "      <th>2</th>\n",
       "      <td>2</td>\n",
       "      <td>Casas</td>\n",
       "      <td>Venda - casa em rua pública</td>\n",
       "      <td>0</td>\n",
       "      <td>0</td>\n",
       "      <td>0</td>\n",
       "      <td>Não informado</td>\n",
       "      <td>Não informado</td>\n",
       "      <td>69930000</td>\n",
       "      <td>Xapuri</td>\n",
       "      <td>AC</td>\n",
       "      <td>Não informado</td>\n",
       "      <td>45000.0</td>\n",
       "      <td>https://ac.olx.com.br/acre/imoveis/casa-reside...</td>\n",
       "      <td>Venda</td>\n",
       "      <td>2021-12-23 12:00:00</td>\n",
       "    </tr>\n",
       "    <tr>\n",
       "      <th>3</th>\n",
       "      <td>3</td>\n",
       "      <td>Casas</td>\n",
       "      <td>Venda - casa em rua pública</td>\n",
       "      <td>3</td>\n",
       "      <td>2</td>\n",
       "      <td>3</td>\n",
       "      <td>Varanda</td>\n",
       "      <td>Não informado</td>\n",
       "      <td>69919760</td>\n",
       "      <td>Rio Branco</td>\n",
       "      <td>AC</td>\n",
       "      <td>Conjunto Tucumã</td>\n",
       "      <td>270000.0</td>\n",
       "      <td>https://ac.olx.com.br/acre/imoveis/vende-se-ca...</td>\n",
       "      <td>Venda</td>\n",
       "      <td>2021-12-23 12:00:00</td>\n",
       "    </tr>\n",
       "    <tr>\n",
       "      <th>4</th>\n",
       "      <td>4</td>\n",
       "      <td>Apartamentos</td>\n",
       "      <td>Venda - apartamento padrão</td>\n",
       "      <td>3</td>\n",
       "      <td>2</td>\n",
       "      <td>2</td>\n",
       "      <td>Área de serviço, Churrasqueira, Varanda</td>\n",
       "      <td>Condomínio fechado, Elevador, Segurança 24h, P...</td>\n",
       "      <td>69900000</td>\n",
       "      <td>Rio Branco</td>\n",
       "      <td>AC</td>\n",
       "      <td>Não informado</td>\n",
       "      <td>350864.0</td>\n",
       "      <td>https://ac.olx.com.br/acre/imoveis/parkia-boul...</td>\n",
       "      <td>Venda</td>\n",
       "      <td>2021-12-23 12:00:00</td>\n",
       "    </tr>\n",
       "  </tbody>\n",
       "</table>\n",
       "</div>"
      ],
      "text/plain": [
       "   id     categoria                         tipo  quartos  banheiros  \\\n",
       "0   0         Casas  Venda - casa em rua pública        3          1   \n",
       "1   1         Casas  Venda - casa em rua pública        3          1   \n",
       "2   2         Casas  Venda - casa em rua pública        0          0   \n",
       "3   3         Casas  Venda - casa em rua pública        3          2   \n",
       "4   4  Apartamentos   Venda - apartamento padrão        3          2   \n",
       "\n",
       "   vagas_garagem                                    detalhes_imovel  \\\n",
       "0              2                                      Não informado   \n",
       "1              2  Área de serviço, Armários na cozinha, Armários...   \n",
       "2              0                                      Não informado   \n",
       "3              3                                            Varanda   \n",
       "4              2            Área de serviço, Churrasqueira, Varanda   \n",
       "\n",
       "                                 detalhes_condominio       cep      cidade  \\\n",
       "0                                      Não informado  69911349  Rio Branco   \n",
       "1                     Área murada, Portão eletrônico  69919628  Rio Branco   \n",
       "2                                      Não informado  69930000      Xapuri   \n",
       "3                                      Não informado  69919760  Rio Branco   \n",
       "4  Condomínio fechado, Elevador, Segurança 24h, P...  69900000  Rio Branco   \n",
       "\n",
       "  estado               bairro     preco  \\\n",
       "0     AC  Conjunto Bela Vista  194000.0   \n",
       "1     AC     Jardim Primavera  120000.0   \n",
       "2     AC        Não informado   45000.0   \n",
       "3     AC      Conjunto Tucumã  270000.0   \n",
       "4     AC        Não informado  350864.0   \n",
       "\n",
       "                                                 url operacao  \\\n",
       "0  https://ac.olx.com.br/acre/imoveis/casa-a-vend...   Venda    \n",
       "1  https://ac.olx.com.br/acre/imoveis/casa-mista-...   Venda    \n",
       "2  https://ac.olx.com.br/acre/imoveis/casa-reside...   Venda    \n",
       "3  https://ac.olx.com.br/acre/imoveis/vende-se-ca...   Venda    \n",
       "4  https://ac.olx.com.br/acre/imoveis/parkia-boul...   Venda    \n",
       "\n",
       "            created_at  \n",
       "0  2021-12-23 12:00:00  \n",
       "1  2021-12-23 12:00:00  \n",
       "2  2021-12-23 12:00:00  \n",
       "3  2021-12-23 12:00:00  \n",
       "4  2021-12-23 12:00:00  "
      ]
     },
     "execution_count": 8,
     "metadata": {},
     "output_type": "execute_result"
    }
   ],
   "source": [
    "df.head()"
   ]
  },
  {
   "cell_type": "code",
   "execution_count": 10,
   "metadata": {},
   "outputs": [
    {
     "data": {
      "text/html": [
       "<div>\n",
       "<style scoped>\n",
       "    .dataframe tbody tr th:only-of-type {\n",
       "        vertical-align: middle;\n",
       "    }\n",
       "\n",
       "    .dataframe tbody tr th {\n",
       "        vertical-align: top;\n",
       "    }\n",
       "\n",
       "    .dataframe thead th {\n",
       "        text-align: right;\n",
       "    }\n",
       "</style>\n",
       "<table border=\"1\" class=\"dataframe\">\n",
       "  <thead>\n",
       "    <tr style=\"text-align: right;\">\n",
       "      <th></th>\n",
       "      <th>id</th>\n",
       "      <th>categoria</th>\n",
       "      <th>tipo</th>\n",
       "      <th>quartos</th>\n",
       "      <th>banheiros</th>\n",
       "      <th>vagas_garagem</th>\n",
       "      <th>detalhes_imovel</th>\n",
       "      <th>detalhes_condominio</th>\n",
       "      <th>cep</th>\n",
       "      <th>cidade</th>\n",
       "      <th>estado</th>\n",
       "      <th>bairro</th>\n",
       "      <th>preco</th>\n",
       "      <th>url</th>\n",
       "      <th>created_at</th>\n",
       "      <th>operacao</th>\n",
       "    </tr>\n",
       "  </thead>\n",
       "  <tbody>\n",
       "    <tr>\n",
       "      <th>0</th>\n",
       "      <td>0</td>\n",
       "      <td>Casas</td>\n",
       "      <td>Venda - casa em rua pública</td>\n",
       "      <td>3</td>\n",
       "      <td>1</td>\n",
       "      <td>2</td>\n",
       "      <td>Não informado</td>\n",
       "      <td>Não informado</td>\n",
       "      <td>69911349</td>\n",
       "      <td>Rio Branco</td>\n",
       "      <td>AC</td>\n",
       "      <td>Conjunto Bela Vista</td>\n",
       "      <td>194000.0</td>\n",
       "      <td>https://ac.olx.com.br/acre/imoveis/casa-a-vend...</td>\n",
       "      <td>2021-12-23 12:00:00</td>\n",
       "      <td>Venda</td>\n",
       "    </tr>\n",
       "    <tr>\n",
       "      <th>1</th>\n",
       "      <td>1</td>\n",
       "      <td>Casas</td>\n",
       "      <td>Venda - casa em rua pública</td>\n",
       "      <td>3</td>\n",
       "      <td>1</td>\n",
       "      <td>2</td>\n",
       "      <td>Área de serviço, Armários na cozinha, Armários...</td>\n",
       "      <td>Área murada, Portão eletrônico</td>\n",
       "      <td>69919628</td>\n",
       "      <td>Rio Branco</td>\n",
       "      <td>AC</td>\n",
       "      <td>Jardim Primavera</td>\n",
       "      <td>120000.0</td>\n",
       "      <td>https://ac.olx.com.br/acre/imoveis/casa-mista-...</td>\n",
       "      <td>2021-12-23 12:00:00</td>\n",
       "      <td>Venda</td>\n",
       "    </tr>\n",
       "    <tr>\n",
       "      <th>2</th>\n",
       "      <td>2</td>\n",
       "      <td>Casas</td>\n",
       "      <td>Venda - casa em rua pública</td>\n",
       "      <td>0</td>\n",
       "      <td>0</td>\n",
       "      <td>0</td>\n",
       "      <td>Não informado</td>\n",
       "      <td>Não informado</td>\n",
       "      <td>69930000</td>\n",
       "      <td>Xapuri</td>\n",
       "      <td>AC</td>\n",
       "      <td>Não informado</td>\n",
       "      <td>45000.0</td>\n",
       "      <td>https://ac.olx.com.br/acre/imoveis/casa-reside...</td>\n",
       "      <td>2021-12-23 12:00:00</td>\n",
       "      <td>Venda</td>\n",
       "    </tr>\n",
       "    <tr>\n",
       "      <th>3</th>\n",
       "      <td>3</td>\n",
       "      <td>Casas</td>\n",
       "      <td>Venda - casa em rua pública</td>\n",
       "      <td>3</td>\n",
       "      <td>2</td>\n",
       "      <td>3</td>\n",
       "      <td>Varanda</td>\n",
       "      <td>Não informado</td>\n",
       "      <td>69919760</td>\n",
       "      <td>Rio Branco</td>\n",
       "      <td>AC</td>\n",
       "      <td>Conjunto Tucumã</td>\n",
       "      <td>270000.0</td>\n",
       "      <td>https://ac.olx.com.br/acre/imoveis/vende-se-ca...</td>\n",
       "      <td>2021-12-23 12:00:00</td>\n",
       "      <td>Venda</td>\n",
       "    </tr>\n",
       "    <tr>\n",
       "      <th>4</th>\n",
       "      <td>4</td>\n",
       "      <td>Apartamentos</td>\n",
       "      <td>Venda - apartamento padrão</td>\n",
       "      <td>3</td>\n",
       "      <td>2</td>\n",
       "      <td>2</td>\n",
       "      <td>Área de serviço, Churrasqueira, Varanda</td>\n",
       "      <td>Condomínio fechado, Elevador, Segurança 24h, P...</td>\n",
       "      <td>69900000</td>\n",
       "      <td>Rio Branco</td>\n",
       "      <td>AC</td>\n",
       "      <td>Não informado</td>\n",
       "      <td>350864.0</td>\n",
       "      <td>https://ac.olx.com.br/acre/imoveis/parkia-boul...</td>\n",
       "      <td>2021-12-23 12:00:00</td>\n",
       "      <td>Venda</td>\n",
       "    </tr>\n",
       "  </tbody>\n",
       "</table>\n",
       "</div>"
      ],
      "text/plain": [
       "   id     categoria                         tipo  quartos  banheiros  \\\n",
       "0   0         Casas  Venda - casa em rua pública        3          1   \n",
       "1   1         Casas  Venda - casa em rua pública        3          1   \n",
       "2   2         Casas  Venda - casa em rua pública        0          0   \n",
       "3   3         Casas  Venda - casa em rua pública        3          2   \n",
       "4   4  Apartamentos   Venda - apartamento padrão        3          2   \n",
       "\n",
       "   vagas_garagem                                    detalhes_imovel  \\\n",
       "0              2                                      Não informado   \n",
       "1              2  Área de serviço, Armários na cozinha, Armários...   \n",
       "2              0                                      Não informado   \n",
       "3              3                                            Varanda   \n",
       "4              2            Área de serviço, Churrasqueira, Varanda   \n",
       "\n",
       "                                 detalhes_condominio       cep      cidade  \\\n",
       "0                                      Não informado  69911349  Rio Branco   \n",
       "1                     Área murada, Portão eletrônico  69919628  Rio Branco   \n",
       "2                                      Não informado  69930000      Xapuri   \n",
       "3                                      Não informado  69919760  Rio Branco   \n",
       "4  Condomínio fechado, Elevador, Segurança 24h, P...  69900000  Rio Branco   \n",
       "\n",
       "  estado               bairro     preco  \\\n",
       "0     AC  Conjunto Bela Vista  194000.0   \n",
       "1     AC     Jardim Primavera  120000.0   \n",
       "2     AC        Não informado   45000.0   \n",
       "3     AC      Conjunto Tucumã  270000.0   \n",
       "4     AC        Não informado  350864.0   \n",
       "\n",
       "                                                 url           created_at  \\\n",
       "0  https://ac.olx.com.br/acre/imoveis/casa-a-vend...  2021-12-23 12:00:00   \n",
       "1  https://ac.olx.com.br/acre/imoveis/casa-mista-...  2021-12-23 12:00:00   \n",
       "2  https://ac.olx.com.br/acre/imoveis/casa-reside...  2021-12-23 12:00:00   \n",
       "3  https://ac.olx.com.br/acre/imoveis/vende-se-ca...  2021-12-23 12:00:00   \n",
       "4  https://ac.olx.com.br/acre/imoveis/parkia-boul...  2021-12-23 12:00:00   \n",
       "\n",
       "  operacao  \n",
       "0   Venda   \n",
       "1   Venda   \n",
       "2   Venda   \n",
       "3   Venda   \n",
       "4   Venda   "
      ]
     },
     "execution_count": 10,
     "metadata": {},
     "output_type": "execute_result"
    }
   ],
   "source": [
    "df = df[['id','categoria','tipo','quartos','banheiros','vagas_garagem','detalhes_imovel','detalhes_condominio','cep','cidade','estado','bairro','preco','url','created_at', 'operacao']]\n",
    "df.head()"
   ]
  },
  {
   "cell_type": "code",
   "execution_count": 12,
   "metadata": {},
   "outputs": [
    {
     "data": {
      "text/plain": [
       "(198808, 16)"
      ]
     },
     "execution_count": 12,
     "metadata": {},
     "output_type": "execute_result"
    }
   ],
   "source": [
    "df.shape"
   ]
  },
  {
   "cell_type": "code",
   "execution_count": 11,
   "metadata": {},
   "outputs": [],
   "source": [
    "FILE_OUT = Path('../data_extraction/imoveisolx/output/dados_limpos.csv')\n",
    "df.to_csv(FILE_OUT, index=False, encoding='utf-8')"
   ]
  },
  {
   "cell_type": "code",
   "execution_count": null,
   "metadata": {},
   "outputs": [],
   "source": []
  }
 ],
 "metadata": {
  "kernelspec": {
   "display_name": "Python 3",
   "language": "python",
   "name": "python3"
  },
  "language_info": {
   "codemirror_mode": {
    "name": "ipython",
    "version": 3
   },
   "file_extension": ".py",
   "mimetype": "text/x-python",
   "name": "python",
   "nbconvert_exporter": "python",
   "pygments_lexer": "ipython3",
   "version": "3.7.6"
  }
 },
 "nbformat": 4,
 "nbformat_minor": 4
}
