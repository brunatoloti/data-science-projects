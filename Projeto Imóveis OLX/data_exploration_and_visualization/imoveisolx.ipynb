{
 "cells": [
  {
   "cell_type": "markdown",
   "metadata": {},
   "source": [
    "# Análise exploratória dos anúncios de imóveis do site OLX"
   ]
  },
  {
   "cell_type": "markdown",
   "metadata": {},
   "source": [
    "- Os anúncios correspondem a imóveis a venda ou para alugar do site OLX.\n",
    "- A base de dados foi extraída do site e possui anúncios de todos os estados.\n",
    "- Foi extraída apenas uma amostra de anúncios de cada estado, portanto nessa base não há todos os anúncios de imóveis do site.\n",
    "- **Objetivo**: Fazer uma análise exploratória dos dados contidos nos anúncios de imóveis do site OLX."
   ]
  },
  {
   "cell_type": "markdown",
   "metadata": {},
   "source": [
    "#### Importando as bibliotecas "
   ]
  },
  {
   "cell_type": "code",
   "execution_count": 1,
   "metadata": {},
   "outputs": [],
   "source": [
    "import pandas as pd\n",
    "import numpy as np\n",
    "import matplotlib.pyplot as plt\n",
    "import seaborn as sns"
   ]
  },
  {
   "cell_type": "markdown",
   "metadata": {},
   "source": [
    "#### Carregando a base de dados extraída "
   ]
  },
  {
   "cell_type": "code",
   "execution_count": 2,
   "metadata": {},
   "outputs": [
    {
     "data": {
      "text/html": [
       "<div>\n",
       "<style scoped>\n",
       "    .dataframe tbody tr th:only-of-type {\n",
       "        vertical-align: middle;\n",
       "    }\n",
       "\n",
       "    .dataframe tbody tr th {\n",
       "        vertical-align: top;\n",
       "    }\n",
       "\n",
       "    .dataframe thead th {\n",
       "        text-align: right;\n",
       "    }\n",
       "</style>\n",
       "<table border=\"1\" class=\"dataframe\">\n",
       "  <thead>\n",
       "    <tr style=\"text-align: right;\">\n",
       "      <th></th>\n",
       "      <th>categoria</th>\n",
       "      <th>tipo</th>\n",
       "      <th>quartos</th>\n",
       "      <th>banheiros</th>\n",
       "      <th>vagas_garagem</th>\n",
       "      <th>detalhes_imovel</th>\n",
       "      <th>detalhes_condominio</th>\n",
       "      <th>cep</th>\n",
       "      <th>cidade</th>\n",
       "      <th>estado</th>\n",
       "      <th>bairro</th>\n",
       "      <th>url</th>\n",
       "    </tr>\n",
       "  </thead>\n",
       "  <tbody>\n",
       "    <tr>\n",
       "      <th>0</th>\n",
       "      <td>Apartamentos</td>\n",
       "      <td>Venda - apartamento padrão</td>\n",
       "      <td>2</td>\n",
       "      <td>1</td>\n",
       "      <td>1</td>\n",
       "      <td>Churrasqueira</td>\n",
       "      <td>NaN</td>\n",
       "      <td>69915354</td>\n",
       "      <td>Rio Branco</td>\n",
       "      <td>AC</td>\n",
       "      <td>Residencial Araçá</td>\n",
       "      <td>https://ac.olx.com.br/acre/imoveis/apartamento...</td>\n",
       "    </tr>\n",
       "    <tr>\n",
       "      <th>1</th>\n",
       "      <td>Casas</td>\n",
       "      <td>Venda - casa em rua pública</td>\n",
       "      <td>3</td>\n",
       "      <td>4</td>\n",
       "      <td>2</td>\n",
       "      <td>Varanda, Churrasqueira</td>\n",
       "      <td>NaN</td>\n",
       "      <td>69901381</td>\n",
       "      <td>Rio Branco</td>\n",
       "      <td>AC</td>\n",
       "      <td>Conjunto Guiomard Santos</td>\n",
       "      <td>https://ac.olx.com.br/acre/imoveis/linda-casa-...</td>\n",
       "    </tr>\n",
       "    <tr>\n",
       "      <th>2</th>\n",
       "      <td>Casas</td>\n",
       "      <td>Venda - casa em rua pública</td>\n",
       "      <td>3</td>\n",
       "      <td>5 ou mais</td>\n",
       "      <td>2</td>\n",
       "      <td>Piscina, Varanda, Churrasqueira</td>\n",
       "      <td>NaN</td>\n",
       "      <td>69915500</td>\n",
       "      <td>Rio Branco</td>\n",
       "      <td>AC</td>\n",
       "      <td>Jardim de Alah</td>\n",
       "      <td>https://ac.olx.com.br/acre/imoveis/linda-casa-...</td>\n",
       "    </tr>\n",
       "    <tr>\n",
       "      <th>3</th>\n",
       "      <td>Apartamentos</td>\n",
       "      <td>Venda - apartamento padrão</td>\n",
       "      <td>3</td>\n",
       "      <td>4</td>\n",
       "      <td>3</td>\n",
       "      <td>Área de serviço, Armários embutidos, Armários ...</td>\n",
       "      <td>Condomínio fechado, Elevador, Segurança 24h, P...</td>\n",
       "      <td>69900000</td>\n",
       "      <td>Rio Branco</td>\n",
       "      <td>AC</td>\n",
       "      <td>NaN</td>\n",
       "      <td>https://ac.olx.com.br/acre/imoveis/villa-lobos...</td>\n",
       "    </tr>\n",
       "    <tr>\n",
       "      <th>4</th>\n",
       "      <td>Casas</td>\n",
       "      <td>Venda - casa em rua pública</td>\n",
       "      <td>2</td>\n",
       "      <td>2</td>\n",
       "      <td>2</td>\n",
       "      <td>Área de serviço, Armários na cozinha, Varanda</td>\n",
       "      <td>NaN</td>\n",
       "      <td>69900000</td>\n",
       "      <td>Rio Branco</td>\n",
       "      <td>AC</td>\n",
       "      <td>NaN</td>\n",
       "      <td>https://ac.olx.com.br/acre/imoveis/rua-conquis...</td>\n",
       "    </tr>\n",
       "  </tbody>\n",
       "</table>\n",
       "</div>"
      ],
      "text/plain": [
       "      categoria                         tipo quartos  banheiros vagas_garagem  \\\n",
       "0  Apartamentos   Venda - apartamento padrão       2          1             1   \n",
       "1         Casas  Venda - casa em rua pública       3          4             2   \n",
       "2         Casas  Venda - casa em rua pública       3  5 ou mais             2   \n",
       "3  Apartamentos   Venda - apartamento padrão       3          4             3   \n",
       "4         Casas  Venda - casa em rua pública       2          2             2   \n",
       "\n",
       "                                     detalhes_imovel  \\\n",
       "0                                      Churrasqueira   \n",
       "1                             Varanda, Churrasqueira   \n",
       "2                    Piscina, Varanda, Churrasqueira   \n",
       "3  Área de serviço, Armários embutidos, Armários ...   \n",
       "4      Área de serviço, Armários na cozinha, Varanda   \n",
       "\n",
       "                                 detalhes_condominio       cep      cidade  \\\n",
       "0                                                NaN  69915354  Rio Branco   \n",
       "1                                                NaN  69901381  Rio Branco   \n",
       "2                                                NaN  69915500  Rio Branco   \n",
       "3  Condomínio fechado, Elevador, Segurança 24h, P...  69900000  Rio Branco   \n",
       "4                                                NaN  69900000  Rio Branco   \n",
       "\n",
       "  estado                    bairro  \\\n",
       "0     AC         Residencial Araçá   \n",
       "1     AC  Conjunto Guiomard Santos   \n",
       "2     AC            Jardim de Alah   \n",
       "3     AC                       NaN   \n",
       "4     AC                       NaN   \n",
       "\n",
       "                                                 url  \n",
       "0  https://ac.olx.com.br/acre/imoveis/apartamento...  \n",
       "1  https://ac.olx.com.br/acre/imoveis/linda-casa-...  \n",
       "2  https://ac.olx.com.br/acre/imoveis/linda-casa-...  \n",
       "3  https://ac.olx.com.br/acre/imoveis/villa-lobos...  \n",
       "4  https://ac.olx.com.br/acre/imoveis/rua-conquis...  "
      ]
     },
     "execution_count": 2,
     "metadata": {},
     "output_type": "execute_result"
    }
   ],
   "source": [
    "df = pd.read_csv('imoveisolx.csv')\n",
    "df.head()"
   ]
  },
  {
   "cell_type": "markdown",
   "metadata": {},
   "source": [
    "#### Verificando o número de linhas e o número de colunas do dataframe "
   ]
  },
  {
   "cell_type": "code",
   "execution_count": 4,
   "metadata": {},
   "outputs": [
    {
     "name": "stdout",
     "output_type": "stream",
     "text": [
      "Número de linhas é 204862 e número de colunas é 12\n"
     ]
    }
   ],
   "source": [
    "sh = df.shape\n",
    "print(f\"Número de linhas é {sh[0]} e número de colunas é {sh[1]}\")"
   ]
  },
  {
   "cell_type": "markdown",
   "metadata": {},
   "source": [
    "#### Obtendo as informações do dataframe "
   ]
  },
  {
   "cell_type": "code",
   "execution_count": 7,
   "metadata": {},
   "outputs": [
    {
     "name": "stdout",
     "output_type": "stream",
     "text": [
      "<class 'pandas.core.frame.DataFrame'>\n",
      "RangeIndex: 204862 entries, 0 to 204861\n",
      "Data columns (total 12 columns):\n",
      " #   Column               Non-Null Count   Dtype \n",
      "---  ------               --------------   ----- \n",
      " 0   categoria            204862 non-null  object\n",
      " 1   tipo                 198578 non-null  object\n",
      " 2   quartos              193206 non-null  object\n",
      " 3   banheiros            185996 non-null  object\n",
      " 4   vagas_garagem        179957 non-null  object\n",
      " 5   detalhes_imovel      121287 non-null  object\n",
      " 6   detalhes_condominio  84463 non-null   object\n",
      " 7   cep                  204862 non-null  int64 \n",
      " 8   cidade               204857 non-null  object\n",
      " 9   estado               204862 non-null  object\n",
      " 10  bairro               173547 non-null  object\n",
      " 11  url                  204862 non-null  object\n",
      "dtypes: int64(1), object(11)\n",
      "memory usage: 18.8+ MB\n"
     ]
    }
   ],
   "source": [
    "df.info()"
   ]
  },
  {
   "cell_type": "markdown",
   "metadata": {},
   "source": [
    "Observe que a única coluna numérica do dataframe é a coluna de cep. Portanto, dado o objetivo aqui, preciso transformar em numérica algumas colunas do dataframe, tal como: quartos, banheiros, vagas_garagem."
   ]
  },
  {
   "cell_type": "markdown",
   "metadata": {},
   "source": [
    "Antes de fazer a transformação das colunas, vou verificar os valores únicos de cada uma."
   ]
  },
  {
   "cell_type": "markdown",
   "metadata": {},
   "source": [
    "#### Verificando os valores únicos das colunas 'quartos', 'banheiros' e 'vagas_garagem' "
   ]
  },
  {
   "cell_type": "markdown",
   "metadata": {},
   "source": [
    "Valores únicos da coluna quartos"
   ]
  },
  {
   "cell_type": "code",
   "execution_count": 8,
   "metadata": {},
   "outputs": [
    {
     "data": {
      "text/plain": [
       "array(['2', '3', '4', '1', nan, '5 ou mais'], dtype=object)"
      ]
     },
     "execution_count": 8,
     "metadata": {},
     "output_type": "execute_result"
    }
   ],
   "source": [
    "df.quartos.unique()"
   ]
  },
  {
   "cell_type": "markdown",
   "metadata": {},
   "source": [
    "Valores únicos da coluna banheiros"
   ]
  },
  {
   "cell_type": "code",
   "execution_count": 9,
   "metadata": {},
   "outputs": [
    {
     "data": {
      "text/plain": [
       "array(['1', '4', '5 ou mais', '2', '3', '0', nan], dtype=object)"
      ]
     },
     "execution_count": 9,
     "metadata": {},
     "output_type": "execute_result"
    }
   ],
   "source": [
    "df.banheiros.unique()"
   ]
  },
  {
   "cell_type": "markdown",
   "metadata": {},
   "source": [
    "Valores únicos da coluna vagas_garagem"
   ]
  },
  {
   "cell_type": "code",
   "execution_count": 10,
   "metadata": {},
   "outputs": [
    {
     "data": {
      "text/plain": [
       "array(['1', '2', '3', '4', '0', nan, '5 ou mais', '6', '7'], dtype=object)"
      ]
     },
     "execution_count": 10,
     "metadata": {},
     "output_type": "execute_result"
    }
   ],
   "source": [
    "df.vagas_garagem.unique()"
   ]
  },
  {
   "cell_type": "markdown",
   "metadata": {},
   "source": [
    "#### Substituindo valores NaN das colunas 'quartos', 'banheiros' e 'vagas_garagem'"
   ]
  },
  {
   "cell_type": "markdown",
   "metadata": {},
   "source": [
    "Escolhi a abordagem de fazer a substituição dos valores NaN dessas colunas ao invés da remoção das linhas que continham essas valores nessas colunas. Notei que já exitiam valores 0 nas colunas 'banheiros' e 'vagas_garagem' e optei por substituir os valores ausentes por 0. "
   ]
  },
  {
   "cell_type": "code",
   "execution_count": 21,
   "metadata": {},
   "outputs": [],
   "source": [
    "df[['quartos', 'banheiros', 'vagas_garagem']] = df[['quartos', 'banheiros', 'vagas_garagem']].fillna('0') "
   ]
  },
  {
   "cell_type": "markdown",
   "metadata": {},
   "source": [
    "#### Transformando as colunas 'quartos', 'banheiros' e 'vagas_garagem' em numéricas "
   ]
  },
  {
   "cell_type": "markdown",
   "metadata": {},
   "source": [
    "Note que há valores '5 ou mais' nas três colunas. Dado que, mesmo tendo valores maiores que 5 na coluna de garagem, ainda tem essa categoria de 5 ou mais. Para transformar as colunas em numéricas, substituirei o ' ou mais' por '' e considerarei apenas o número."
   ]
  },
  {
   "cell_type": "code",
   "execution_count": 24,
   "metadata": {},
   "outputs": [],
   "source": [
    "df.quartos = df.quartos.str.replace(' ou mais', '')"
   ]
  },
  {
   "cell_type": "code",
   "execution_count": 25,
   "metadata": {},
   "outputs": [
    {
     "data": {
      "text/plain": [
       "array(['2', '3', '4', '1', '0', '5'], dtype=object)"
      ]
     },
     "execution_count": 25,
     "metadata": {},
     "output_type": "execute_result"
    }
   ],
   "source": [
    "df.quartos.unique()"
   ]
  },
  {
   "cell_type": "code",
   "execution_count": 26,
   "metadata": {},
   "outputs": [],
   "source": [
    "df.banheiros = df.banheiros.str.replace(' ou mais', '')"
   ]
  },
  {
   "cell_type": "code",
   "execution_count": 27,
   "metadata": {},
   "outputs": [
    {
     "data": {
      "text/plain": [
       "array(['1', '4', '5', '2', '3', '0'], dtype=object)"
      ]
     },
     "execution_count": 27,
     "metadata": {},
     "output_type": "execute_result"
    }
   ],
   "source": [
    "df.banheiros.unique()"
   ]
  },
  {
   "cell_type": "code",
   "execution_count": 28,
   "metadata": {},
   "outputs": [],
   "source": [
    "df.vagas_garagem = df.vagas_garagem.str.replace(' ou mais', '')"
   ]
  },
  {
   "cell_type": "code",
   "execution_count": 29,
   "metadata": {},
   "outputs": [
    {
     "data": {
      "text/plain": [
       "array(['1', '2', '3', '4', '0', '5', '6', '7'], dtype=object)"
      ]
     },
     "execution_count": 29,
     "metadata": {},
     "output_type": "execute_result"
    }
   ],
   "source": [
    "df.vagas_garagem.unique()"
   ]
  },
  {
   "cell_type": "markdown",
   "metadata": {},
   "source": [
    "Transformando as três colunas em numéricas"
   ]
  },
  {
   "cell_type": "code",
   "execution_count": 30,
   "metadata": {},
   "outputs": [],
   "source": [
    "df.quartos = df.quartos.astype('int')"
   ]
  },
  {
   "cell_type": "code",
   "execution_count": 33,
   "metadata": {},
   "outputs": [],
   "source": [
    "df.banheiros = df.banheiros.astype('int')"
   ]
  },
  {
   "cell_type": "code",
   "execution_count": 34,
   "metadata": {},
   "outputs": [],
   "source": [
    "df.vagas_garagem = df.vagas_garagem.astype('int')"
   ]
  },
  {
   "cell_type": "code",
   "execution_count": 35,
   "metadata": {},
   "outputs": [
    {
     "name": "stdout",
     "output_type": "stream",
     "text": [
      "<class 'pandas.core.frame.DataFrame'>\n",
      "RangeIndex: 204862 entries, 0 to 204861\n",
      "Data columns (total 12 columns):\n",
      " #   Column               Non-Null Count   Dtype \n",
      "---  ------               --------------   ----- \n",
      " 0   categoria            204862 non-null  object\n",
      " 1   tipo                 198578 non-null  object\n",
      " 2   quartos              204862 non-null  int32 \n",
      " 3   banheiros            204862 non-null  int32 \n",
      " 4   vagas_garagem        204862 non-null  int32 \n",
      " 5   detalhes_imovel      121287 non-null  object\n",
      " 6   detalhes_condominio  84463 non-null   object\n",
      " 7   cep                  204862 non-null  int64 \n",
      " 8   cidade               204857 non-null  object\n",
      " 9   estado               204862 non-null  object\n",
      " 10  bairro               173547 non-null  object\n",
      " 11  url                  204862 non-null  object\n",
      "dtypes: int32(3), int64(1), object(8)\n",
      "memory usage: 16.4+ MB\n"
     ]
    }
   ],
   "source": [
    "df.info()"
   ]
  },
  {
   "cell_type": "markdown",
   "metadata": {},
   "source": [
    "#### Fazendo um describe() do dataframe"
   ]
  },
  {
   "cell_type": "markdown",
   "metadata": {},
   "source": [
    "Lembrando que apenas colunas numéricas aparecem no describe()"
   ]
  },
  {
   "cell_type": "code",
   "execution_count": 36,
   "metadata": {},
   "outputs": [
    {
     "data": {
      "text/html": [
       "<div>\n",
       "<style scoped>\n",
       "    .dataframe tbody tr th:only-of-type {\n",
       "        vertical-align: middle;\n",
       "    }\n",
       "\n",
       "    .dataframe tbody tr th {\n",
       "        vertical-align: top;\n",
       "    }\n",
       "\n",
       "    .dataframe thead th {\n",
       "        text-align: right;\n",
       "    }\n",
       "</style>\n",
       "<table border=\"1\" class=\"dataframe\">\n",
       "  <thead>\n",
       "    <tr style=\"text-align: right;\">\n",
       "      <th></th>\n",
       "      <th>quartos</th>\n",
       "      <th>banheiros</th>\n",
       "      <th>vagas_garagem</th>\n",
       "      <th>cep</th>\n",
       "    </tr>\n",
       "  </thead>\n",
       "  <tbody>\n",
       "    <tr>\n",
       "      <th>count</th>\n",
       "      <td>204862.000000</td>\n",
       "      <td>204862.000000</td>\n",
       "      <td>204862.000000</td>\n",
       "      <td>2.048620e+05</td>\n",
       "    </tr>\n",
       "    <tr>\n",
       "      <th>mean</th>\n",
       "      <td>2.325414</td>\n",
       "      <td>1.729154</td>\n",
       "      <td>1.325097</td>\n",
       "      <td>6.098124e+07</td>\n",
       "    </tr>\n",
       "    <tr>\n",
       "      <th>std</th>\n",
       "      <td>1.069114</td>\n",
       "      <td>1.275683</td>\n",
       "      <td>1.198451</td>\n",
       "      <td>2.061493e+07</td>\n",
       "    </tr>\n",
       "    <tr>\n",
       "      <th>min</th>\n",
       "      <td>0.000000</td>\n",
       "      <td>0.000000</td>\n",
       "      <td>0.000000</td>\n",
       "      <td>1.005020e+06</td>\n",
       "    </tr>\n",
       "    <tr>\n",
       "      <th>25%</th>\n",
       "      <td>2.000000</td>\n",
       "      <td>1.000000</td>\n",
       "      <td>0.000000</td>\n",
       "      <td>5.071000e+07</td>\n",
       "    </tr>\n",
       "    <tr>\n",
       "      <th>50%</th>\n",
       "      <td>2.000000</td>\n",
       "      <td>1.000000</td>\n",
       "      <td>1.000000</td>\n",
       "      <td>6.500000e+07</td>\n",
       "    </tr>\n",
       "    <tr>\n",
       "      <th>75%</th>\n",
       "      <td>3.000000</td>\n",
       "      <td>2.000000</td>\n",
       "      <td>2.000000</td>\n",
       "      <td>7.680000e+07</td>\n",
       "    </tr>\n",
       "    <tr>\n",
       "      <th>max</th>\n",
       "      <td>5.000000</td>\n",
       "      <td>5.000000</td>\n",
       "      <td>7.000000</td>\n",
       "      <td>1.000000e+08</td>\n",
       "    </tr>\n",
       "  </tbody>\n",
       "</table>\n",
       "</div>"
      ],
      "text/plain": [
       "             quartos      banheiros  vagas_garagem           cep\n",
       "count  204862.000000  204862.000000  204862.000000  2.048620e+05\n",
       "mean        2.325414       1.729154       1.325097  6.098124e+07\n",
       "std         1.069114       1.275683       1.198451  2.061493e+07\n",
       "min         0.000000       0.000000       0.000000  1.005020e+06\n",
       "25%         2.000000       1.000000       0.000000  5.071000e+07\n",
       "50%         2.000000       1.000000       1.000000  6.500000e+07\n",
       "75%         3.000000       2.000000       2.000000  7.680000e+07\n",
       "max         5.000000       5.000000       7.000000  1.000000e+08"
      ]
     },
     "execution_count": 36,
     "metadata": {},
     "output_type": "execute_result"
    }
   ],
   "source": [
    "df.describe()"
   ]
  },
  {
   "cell_type": "markdown",
   "metadata": {},
   "source": [
    "A partir desse describe(), conseguimos notar que:\n",
    "- Em média, o número de quartos da amostra extraída dos imóveis anunciados na OLX é 2.\n",
    "- Em média, o número de banheiros da amostra extraída dos imóveis anunciados na OLX é de 1 a 2 (talvez, mais pra 2, dependendo do arredondamento).\n",
    "- Em média, o número de vagas na garagem da amostra extraída dos imóveis anunciados na OLX é de 1."
   ]
  },
  {
   "cell_type": "markdown",
   "metadata": {},
   "source": [
    "#### Obtendo o número de anúncios para cada número de quartos "
   ]
  },
  {
   "cell_type": "code",
   "execution_count": 37,
   "metadata": {},
   "outputs": [
    {
     "data": {
      "text/plain": [
       "2    79747\n",
       "3    64882\n",
       "1    25861\n",
       "4    17192\n",
       "0    11656\n",
       "5     5524\n",
       "Name: quartos, dtype: int64"
      ]
     },
     "execution_count": 37,
     "metadata": {},
     "output_type": "execute_result"
    }
   ],
   "source": [
    "df.quartos.value_counts()"
   ]
  },
  {
   "cell_type": "code",
   "execution_count": 47,
   "metadata": {},
   "outputs": [
    {
     "data": {
      "text/plain": [
       "<seaborn.axisgrid.FacetGrid at 0x1db5038ce48>"
      ]
     },
     "execution_count": 47,
     "metadata": {},
     "output_type": "execute_result"
    },
    {
     "data": {
      "image/png": "[encoded data removed]",
      "text/plain": [
       "<Figure size 360x360 with 1 Axes>"
      ]
     },
     "metadata": {
      "needs_background": "light"
     },
     "output_type": "display_data"
    }
   ],
   "source": [
    "sns.catplot(x=\"quartos\", kind=\"count\", palette=\"Set2\", data=df)"
   ]
  },
  {
   "cell_type": "markdown",
   "metadata": {},
   "source": [
    "#### Obtendo o número de anúncios para cada número de banheiros "
   ]
  },
  {
   "cell_type": "code",
   "execution_count": 38,
   "metadata": {},
   "outputs": [
    {
     "data": {
      "text/plain": [
       "1    76630\n",
       "2    57444\n",
       "0    27395\n",
       "3    21445\n",
       "4    11355\n",
       "5    10593\n",
       "Name: banheiros, dtype: int64"
      ]
     },
     "execution_count": 38,
     "metadata": {},
     "output_type": "execute_result"
    }
   ],
   "source": [
    "df.banheiros.value_counts()"
   ]
  },
  {
   "cell_type": "code",
   "execution_count": 48,
   "metadata": {},
   "outputs": [
    {
     "data": {
      "text/plain": [
       "<seaborn.axisgrid.FacetGrid at 0x1db5045fdc8>"
      ]
     },
     "execution_count": 48,
     "metadata": {},
     "output_type": "execute_result"
    },
    {
     "data": {
      "image/png": "[encoded data removed]",
      "text/plain": [
       "<Figure size 360x360 with 1 Axes>"
      ]
     },
     "metadata": {
      "needs_background": "light"
     },
     "output_type": "display_data"
    }
   ],
   "source": [
    "sns.catplot(x=\"banheiros\", kind=\"count\", palette=\"Set2\", data=df)"
   ]
  },
  {
   "cell_type": "markdown",
   "metadata": {},
   "source": [
    "#### Obtendo o número de anúncios para cada número de vagas na garagem "
   ]
  },
  {
   "cell_type": "code",
   "execution_count": 39,
   "metadata": {},
   "outputs": [
    {
     "data": {
      "text/plain": [
       "1    82186\n",
       "0    51537\n",
       "2    44485\n",
       "3    12068\n",
       "4     8835\n",
       "5     5745\n",
       "6        5\n",
       "7        1\n",
       "Name: vagas_garagem, dtype: int64"
      ]
     },
     "execution_count": 39,
     "metadata": {},
     "output_type": "execute_result"
    }
   ],
   "source": [
    "df.vagas_garagem.value_counts()"
   ]
  },
  {
   "cell_type": "code",
   "execution_count": 49,
   "metadata": {},
   "outputs": [
    {
     "data": {
      "text/plain": [
       "<seaborn.axisgrid.FacetGrid at 0x1db50572688>"
      ]
     },
     "execution_count": 49,
     "metadata": {},
     "output_type": "execute_result"
    },
    {
     "data": {
      "image/png": "[encoded data removed]",
      "text/plain": [
       "<Figure size 360x360 with 1 Axes>"
      ]
     },
     "metadata": {
      "needs_background": "light"
     },
     "output_type": "display_data"
    }
   ],
   "source": [
    "sns.catplot(x=\"vagas_garagem\", kind=\"count\", palette=\"Set2\", data=df)"
   ]
  },
  {
   "cell_type": "code",
   "execution_count": null,
   "metadata": {},
   "outputs": [],
   "source": []
  }
 ],
 "metadata": {
  "kernelspec": {
   "display_name": "Python 3",
   "language": "python",
   "name": "python3"
  },
  "language_info": {
   "codemirror_mode": {
    "name": "ipython",
    "version": 3
   },
   "file_extension": ".py",
   "mimetype": "text/x-python",
   "name": "python",
   "nbconvert_exporter": "python",
   "pygments_lexer": "ipython3",
   "version": "3.7.6"
  }
 },
 "nbformat": 4,
 "nbformat_minor": 4
}
